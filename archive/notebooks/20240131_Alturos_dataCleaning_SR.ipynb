{
  "nbformat": 4,
  "nbformat_minor": 0,
  "metadata": {
    "colab": {
      "provenance": []
    },
    "kernelspec": {
      "name": "python3",
      "display_name": "Python 3"
    },
    "language_info": {
      "name": "python"
    }
  },
  "cells": [
    {
      "cell_type": "markdown",
      "source": [
        "## Loading Dependencies"
      ],
      "metadata": {
        "id": "5Bpw__uv-YU7"
      }
    },
    {
      "cell_type": "code",
      "source": [
        "import pandas as pd"
      ],
      "metadata": {
        "id": "KoeNK3Nx3rDP"
      },
      "execution_count": null,
      "outputs": []
    },
    {
      "cell_type": "markdown",
      "source": [
        "## Loading Data"
      ],
      "metadata": {
        "id": "wa2a5zZt-bhD"
      }
    },
    {
      "cell_type": "code",
      "source": [
        "data = {'95m': 'https://drive.google.com/file/d/1ukYfAD9sdDNfw9lz4CocN5Gk7C7SCeCy/view?usp=drive_link',\n",
        "        '206m': 'https://drive.google.com/file/d/1sYU22Cw3DG7wycjYQw12mSBf5DThFwob/view?usp=drive_link',\n",
        "        '310m': 'https://drive.google.com/file/d/1sIwCPblFYbBPIPE7sWFwoJDzrnvl_-J3/view?usp=drive_link'\n",
        "        }"
      ],
      "metadata": {
        "id": "yEg5edAH5P-v"
      },
      "execution_count": null,
      "outputs": []
    },
    {
      "cell_type": "code",
      "source": [
        "url_95 = 'https://drive.google.com/file/d/1ukYfAD9sdDNfw9lz4CocN5Gk7C7SCeCy/view?usp=drive_link'\n",
        "url_95_id = 'https://drive.google.com/uc?id=' + url_95.split('/')[-2]\n",
        "\n",
        "#url_206 = 'https://drive.google.com/file/d/1sYU22Cw3DG7wycjYQw12mSBf5DThFwob/view?usp=drive_link'\n",
        "#url_206_id = 'https://drive.google.com/uc?id=' + url_206.split('/')[-2]\n",
        "\n",
        "url_310 = 'https://drive.google.com/file/d/1sIwCPblFYbBPIPE7sWFwoJDzrnvl_-J3/view?usp=drive_link'\n",
        "url_310_id = 'https://drive.google.com/uc?id=' + url_310.split('/')[-2]\n"
      ],
      "metadata": {
        "id": "DLbw8kBTzqvx"
      },
      "execution_count": null,
      "outputs": []
    },
    {
      "cell_type": "code",
      "source": [
        "df_95 = pd.read_csv(url_95_id)\n",
        "#df_206 = pd.read_csv('https://drive.usercontent.google.com/download?id=1sYU22Cw3DG7wycjYQw12mSBf5DThFwob&authuser=0')\n",
        "df_310 = pd.read_csv(url_310_id)"
      ],
      "metadata": {
        "id": "SpZyDvYf2Xc0"
      },
      "execution_count": null,
      "outputs": []
    },
    {
      "cell_type": "code",
      "source": [
        "df_95_clean_1 = df_95.drop(columns=['ActivityType', 'ActivityConfidence', 'Pressure(kilopascals)', 'Roll(rads)', 'Pitch(rads)', 'Yaw(rads)'])\n",
        "df_310_clean_1 = df_310.drop(columns=['ActivityType', 'ActivityConfidence', 'Pressure(kilopascals)', 'Roll(rads)', 'Pitch(rads)', 'Yaw(rads)'])"
      ],
      "metadata": {
        "id": "iIUtE8QP6qKF"
      },
      "execution_count": null,
      "outputs": []
    },
    {
      "cell_type": "code",
      "source": [
        "df_95_clean_1.info()"
      ],
      "metadata": {
        "colab": {
          "base_uri": "https://localhost:8080/"
        },
        "id": "PZ0mx1k6ITWt",
        "outputId": "8ab7369c-594f-49e7-a873-3666e148a1ac"
      },
      "execution_count": null,
      "outputs": [
        {
          "output_type": "stream",
          "name": "stdout",
          "text": [
            "<class 'pandas.core.frame.DataFrame'>\n",
            "RangeIndex: 5717 entries, 0 to 5716\n",
            "Data columns (total 38 columns):\n",
            " #   Column                    Non-Null Count  Dtype  \n",
            "---  ------                    --------------  -----  \n",
            " 0   Timestamp                 5717 non-null   object \n",
            " 1   accelX(g)                 5717 non-null   float64\n",
            " 2   accelY(g)                 5717 non-null   float64\n",
            " 3   accelZ(g)                 5717 non-null   float64\n",
            " 4   accelUserX(g)             5717 non-null   float64\n",
            " 5   accelUserY(g)             5717 non-null   float64\n",
            " 6   accelUserZ(g)             5717 non-null   float64\n",
            " 7   gyroX(rad/s)              5717 non-null   float64\n",
            " 8   gyroY(rad/s)              5717 non-null   float64\n",
            " 9   gyroZ(rad/s)              5717 non-null   float64\n",
            " 10  m11                       5717 non-null   float64\n",
            " 11  m12                       5717 non-null   float64\n",
            " 12  m13                       5717 non-null   float64\n",
            " 13  m21                       5717 non-null   float64\n",
            " 14  m22                       5717 non-null   float64\n",
            " 15  m23                       5717 non-null   float64\n",
            " 16  m31                       5717 non-null   float64\n",
            " 17  m32                       5717 non-null   float64\n",
            " 18  m33                       5717 non-null   float64\n",
            " 19  qX                        5717 non-null   float64\n",
            " 20  qY                        5717 non-null   float64\n",
            " 21  qZ                        5717 non-null   float64\n",
            " 22  qW                        5717 non-null   float64\n",
            " 23  Lat                       5717 non-null   float64\n",
            " 24  Long                      5717 non-null   float64\n",
            " 25  Speed(m/s)                5717 non-null   float64\n",
            " 26  TrueHeading               5717 non-null   float64\n",
            " 27  Alt(m)                    5717 non-null   float64\n",
            " 28  HorizontalAccuracy(m)     5717 non-null   float64\n",
            " 29  VerticalAccuracy(m)       5717 non-null   float64\n",
            " 30  Course                    5717 non-null   float64\n",
            " 31  RelativeAltitude(meters)  5717 non-null   float64\n",
            " 32  magX(µT)                  5717 non-null   float64\n",
            " 33  magY(µT)                  5717 non-null   float64\n",
            " 34  magZ(µT)                  5717 non-null   float64\n",
            " 35  calMagX(µT)               5717 non-null   float64\n",
            " 36  calMagY(µT)               5717 non-null   float64\n",
            " 37  calMagZ(µT)               5717 non-null   float64\n",
            "dtypes: float64(37), object(1)\n",
            "memory usage: 1.7+ MB\n"
          ]
        }
      ]
    },
    {
      "cell_type": "code",
      "source": [
        "df_310_clean_1.info()"
      ],
      "metadata": {
        "id": "podFo5VyKsM0",
        "colab": {
          "base_uri": "https://localhost:8080/"
        },
        "outputId": "248aefd0-ba59-4a1c-8a63-bec814821363"
      },
      "execution_count": null,
      "outputs": [
        {
          "output_type": "stream",
          "name": "stdout",
          "text": [
            "<class 'pandas.core.frame.DataFrame'>\n",
            "RangeIndex: 18577 entries, 0 to 18576\n",
            "Data columns (total 38 columns):\n",
            " #   Column                    Non-Null Count  Dtype  \n",
            "---  ------                    --------------  -----  \n",
            " 0   Timestamp                 18577 non-null  object \n",
            " 1   accelX(g)                 18577 non-null  float64\n",
            " 2   accelY(g)                 18577 non-null  float64\n",
            " 3   accelZ(g)                 18577 non-null  float64\n",
            " 4   accelUserX(g)             18577 non-null  float64\n",
            " 5   accelUserY(g)             18577 non-null  float64\n",
            " 6   accelUserZ(g)             18577 non-null  float64\n",
            " 7   gyroX(rad/s)              18577 non-null  float64\n",
            " 8   gyroY(rad/s)              18577 non-null  float64\n",
            " 9   gyroZ(rad/s)              18577 non-null  float64\n",
            " 10  m11                       18577 non-null  float64\n",
            " 11  m12                       18577 non-null  float64\n",
            " 12  m13                       18577 non-null  float64\n",
            " 13  m21                       18577 non-null  float64\n",
            " 14  m22                       18577 non-null  float64\n",
            " 15  m23                       18577 non-null  float64\n",
            " 16  m31                       18577 non-null  float64\n",
            " 17  m32                       18577 non-null  float64\n",
            " 18  m33                       18577 non-null  float64\n",
            " 19  qX                        18577 non-null  float64\n",
            " 20  qY                        18577 non-null  float64\n",
            " 21  qZ                        18577 non-null  float64\n",
            " 22  qW                        18577 non-null  float64\n",
            " 23  Lat                       18577 non-null  float64\n",
            " 24  Long                      18577 non-null  float64\n",
            " 25  Speed(m/s)                18577 non-null  float64\n",
            " 26  TrueHeading               18577 non-null  float64\n",
            " 27  Alt(m)                    18577 non-null  float64\n",
            " 28  HorizontalAccuracy(m)     18577 non-null  float64\n",
            " 29  VerticalAccuracy(m)       18577 non-null  float64\n",
            " 30  Course                    18577 non-null  float64\n",
            " 31  RelativeAltitude(meters)  18577 non-null  float64\n",
            " 32  magX(µT)                  18577 non-null  float64\n",
            " 33  magY(µT)                  18577 non-null  float64\n",
            " 34  magZ(µT)                  18577 non-null  float64\n",
            " 35  calMagX(µT)               18577 non-null  float64\n",
            " 36  calMagY(µT)               18577 non-null  float64\n",
            " 37  calMagZ(µT)               18577 non-null  float64\n",
            "dtypes: float64(37), object(1)\n",
            "memory usage: 5.4+ MB\n"
          ]
        }
      ]
    },
    {
      "cell_type": "code",
      "source": [],
      "metadata": {
        "id": "4fuLbaEBkrjc"
      },
      "execution_count": null,
      "outputs": []
    }
  ]
}