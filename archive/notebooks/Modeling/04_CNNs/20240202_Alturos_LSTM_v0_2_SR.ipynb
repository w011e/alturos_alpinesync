{
  "cells": [
    {
      "cell_type": "code",
      "execution_count": 2,
      "id": "79bb3659-c2b5-4539-8036-94ba7f53153f",
      "metadata": {
        "id": "79bb3659-c2b5-4539-8036-94ba7f53153f"
      },
      "outputs": [],
      "source": [
        "import pandas as pd\n",
        "import numpy as np\n",
        "import seaborn as sns\n",
        "import matplotlib.pyplot as plt\n",
        "\n",
        "from sklearn.pipeline import Pipeline\n",
        "from sklearn.model_selection import train_test_split, cross_val_score, StratifiedKFold\n",
        "from sklearn.preprocessing import StandardScaler\n",
        "from sklearn.linear_model import LogisticRegression\n",
        "from sklearn.metrics import confusion_matrix, accuracy_score, precision_score, recall_score, f1_score, classification_report\n"
      ]
    },
    {
      "cell_type": "markdown",
      "source": [
        "## Define functions"
      ],
      "metadata": {
        "id": "8Or7l2X2JN-q"
      },
      "id": "8Or7l2X2JN-q"
    },
    {
      "cell_type": "code",
      "execution_count": 3,
      "id": "3fdbcb53-0a2e-453a-a4b4-3a76e6f15787",
      "metadata": {
        "id": "3fdbcb53-0a2e-453a-a4b4-3a76e6f15787"
      },
      "outputs": [],
      "source": [
        "# Plot for Altitude over Time, colored by 'on_lift' status\n",
        "def plot_prediction(data_frame: pd.DataFrame, pred_column: str):\n",
        "  plt.figure(figsize=(14, 7))\n",
        "  # Plot points where 'on_lift' is 1 with one color\n",
        "  plt.scatter(data_frame.loc[data_frame[pred_column] == 1, 'Timestamp'],\n",
        "              data_frame.loc[data_frame[pred_column] == 1, 'Alt(m)'],\n",
        "              c='red',\n",
        "              label='On the lift',\n",
        "              marker='o')\n",
        "\n",
        "  # Plot points where 'on_lift' is 0 with another color\n",
        "  plt.scatter(data_frame.loc[data_frame[pred_column] == 0, 'Timestamp'],\n",
        "              data_frame.loc[data_frame[pred_column] == 0, 'Alt(m)'],\n",
        "              c='blue',\n",
        "              label='Not on the lift',\n",
        "              marker='o')\n",
        "\n",
        "  plt.title('Altitude over Time by on_lift')\n",
        "  plt.xlabel('Timestamp')\n",
        "  plt.ylabel('Altitude (m)')\n",
        "  plt.legend()\n",
        "  plt.show()\n",
        "  print(data_frame.columns)"
      ]
    },
    {
      "cell_type": "code",
      "source": [
        "def add_features(data_frame):\n",
        "  # Calculate change in speed\n",
        "  data_frame['Speed_change'] = data_frame['Speed(m/s)'].diff().fillna(0)\n",
        "\n",
        "  # Calculate the altitude difference between consecutive points\n",
        "  data_frame['Altitude_change'] = data_frame['Alt(m)'].diff().fillna(0)\n",
        "\n",
        "  # Calculate the Course\n",
        "  data_frame['Course_change'] = data_frame['Course'].diff().fillna(0)\n",
        "\n",
        "  #print(data_frame[['Timestamp',\n",
        "  #         'Alt(m)',\n",
        "  #          'Altitude_change',\n",
        "  #          'Speed(m/s)',\n",
        "  #          'Speed_change',\n",
        "  #          'Course',\n",
        "  #          'Course_change'\n",
        "  #          ]].head())"
      ],
      "metadata": {
        "id": "DSWEWOKvXCau"
      },
      "id": "DSWEWOKvXCau",
      "execution_count": 4,
      "outputs": []
    },
    {
      "cell_type": "markdown",
      "source": [
        "## Load Data"
      ],
      "metadata": {
        "id": "Q-EiGpN5JSLn"
      },
      "id": "Q-EiGpN5JSLn"
    },
    {
      "cell_type": "code",
      "source": [
        "data = {'95m': 'https://drive.google.com/file/d/1dp36BujminFOR0cjdTn3nIFY3RLmnqSI/view?usp=drive_link',\n",
        "        '206m': 'https://drive.google.com/file/d/1ylBDR2pEpMELt_WU9XrQdP6ove-xg1Yx/view?usp=drive_link',\n",
        "        '310m': 'https://drive.google.com/file/d/17I2jjhrJJTqinAupMRksuq-xiF9SfOd4/view?usp=drive_link'\n",
        "        }"
      ],
      "metadata": {
        "id": "yEg5edAH5P-v"
      },
      "execution_count": 638,
      "outputs": [],
      "id": "yEg5edAH5P-v"
    },
    {
      "cell_type": "code",
      "source": [
        "df_95 = pd.read_csv()"
      ],
      "metadata": {
        "id": "qvMLqryuGNNz"
      },
      "id": "qvMLqryuGNNz",
      "execution_count": 7,
      "outputs": []
    },
    {
      "cell_type": "code",
      "execution_count": 8,
      "metadata": {
        "colab": {
          "base_uri": "https://localhost:8080/"
        },
        "outputId": "4e7a1087-8c6e-4848-dde0-2783f11abf4e",
        "id": "F_KCiVfjJ68F"
      },
      "outputs": [
        {
          "output_type": "execute_result",
          "data": {
            "text/plain": [
              "((5717, 46), (18577, 46), (12373, 45))"
            ]
          },
          "metadata": {},
          "execution_count": 8
        }
      ],
      "source": [
        "# please use you local csv !!!\n",
        "df_95 = pd.read_csv('https://drive.google.com/uc?id=' + data['95m'].split('/')[-2])\n",
        "# Convert 'Timestamp' column to datetime\n",
        "df_95['Timestamp'] = pd.to_datetime(df_95['Timestamp'])\n",
        "\n",
        "df_206=pd.read_csv('https://drive.google.com/uc?id=' + data['206m'].split('/')[-2])\n",
        "# Convert 'Timestamp' column to datetime\n",
        "df_206['Timestamp'] = pd.to_datetime(df_206['Timestamp'])\n",
        "\n",
        "df_310=pd.read_csv('https://drive.google.com/uc?id=' + data['310m'].split('/')[-2])\n",
        "# Convert 'Timestamp' column to datetime\n",
        "df_310['Timestamp'] = pd.to_datetime(df_310['Timestamp'])\n",
        "\n",
        "df_95.shape, df_310.shape, df_206.shape"
      ],
      "id": "F_KCiVfjJ68F"
    },
    {
      "cell_type": "markdown",
      "source": [
        "###Feature Engineering"
      ],
      "metadata": {
        "id": "IZxLfRyDRe33"
      },
      "id": "IZxLfRyDRe33"
    },
    {
      "cell_type": "code",
      "source": [
        "add_features(df_95)\n",
        "add_features(df_310)\n",
        "add_features(df_206)"
      ],
      "metadata": {
        "id": "jC0cE0nPRj9Y"
      },
      "id": "jC0cE0nPRj9Y",
      "execution_count": 9,
      "outputs": []
    },
    {
      "cell_type": "code",
      "source": [
        "plot_prediction(df_95, 'on_lift')"
      ],
      "metadata": {
        "colab": {
          "base_uri": "https://localhost:8080/",
          "height": 832
        },
        "id": "DF5MqDLyZX6f",
        "outputId": "60edc8be-32c4-4183-f29a-dec1ae276c57"
      },
      "id": "DF5MqDLyZX6f",
      "execution_count": 208,
      "outputs": [
        {
          "output_type": "display_data",
          "data": {
            "text/plain": [
              "<Figure size 1400x700 with 1 Axes>"
            ],
            "image/png": "[encoded data removed]"
          },
          "metadata": {}
        },
        {
          "output_type": "stream",
          "name": "stdout",
          "text": [
            "Index(['Timestamp', 'accelX(g)', 'accelY(g)', 'accelZ(g)', 'accelUserX(g)',\n",
            "       'accelUserY(g)', 'accelUserZ(g)', 'gyroX(rad/s)', 'gyroY(rad/s)',\n",
            "       'gyroZ(rad/s)', 'Roll(rads)', 'Pitch(rads)', 'Yaw(rads)', 'm11', 'm12',\n",
            "       'm13', 'm21', 'm22', 'm23', 'm31', 'm32', 'm33', 'qX', 'qY', 'qZ', 'qW',\n",
            "       'Lat', 'Long', 'Speed(m/s)', 'TrueHeading', 'Alt(m)',\n",
            "       'HorizontalAccuracy(m)', 'VerticalAccuracy(m)', 'Course',\n",
            "       'ActivityType', 'ActivityConfidence', 'Pressure(kilopascals)',\n",
            "       'RelativeAltitude(meters)', 'magX(µT)', 'magY(µT)', 'magZ(µT)',\n",
            "       'calMagX(µT)', 'calMagY(µT)', 'calMagZ(µT)', 'Cluster_1', 'on_lift',\n",
            "       'Speed_change', 'Altitude_change', 'Course_change'],\n",
            "      dtype='object')\n"
          ]
        }
      ]
    },
    {
      "cell_type": "code",
      "source": [
        "plot_prediction(df_206, 'on_lift')"
      ],
      "metadata": {
        "colab": {
          "base_uri": "https://localhost:8080/",
          "height": 832
        },
        "id": "aZSDSJnhZX-j",
        "outputId": "bddf6550-66f6-4d18-da26-6aa69861621c"
      },
      "id": "aZSDSJnhZX-j",
      "execution_count": 209,
      "outputs": [
        {
          "output_type": "display_data",
          "data": {
            "text/plain": [
              "<Figure size 1400x700 with 1 Axes>"
            ],
            "image/png": "[encoded data removed]"
          },
          "metadata": {}
        },
        {
          "output_type": "stream",
          "name": "stdout",
          "text": [
            "Index(['Timestamp', 'accelX(g)', 'accelY(g)', 'accelZ(g)', 'accelUserX(g)',\n",
            "       'accelUserY(g)', 'accelUserZ(g)', 'gyroX(rad/s)', 'gyroY(rad/s)',\n",
            "       'gyroZ(rad/s)', 'Roll(rads)', 'Pitch(rads)', 'Yaw(rads)', 'm11', 'm12',\n",
            "       'm13', 'm21', 'm22', 'm23', 'm31', 'm32', 'm33', 'qX', 'qY', 'qZ', 'qW',\n",
            "       'Lat', 'Long', 'Speed(m/s)', 'TrueHeading', 'Alt(m)',\n",
            "       'HorizontalAccuracy(m)', 'VerticalAccuracy(m)', 'Course',\n",
            "       'ActivityType', 'ActivityConfidence', 'Pressure(kilopascals)',\n",
            "       'RelativeAltitude(meters)', 'magX(µT)', 'magY(µT)', 'magZ(µT)',\n",
            "       'calMagX(µT)', 'calMagY(µT)', 'calMagZ(µT)', 'on_lift', 'Speed_change',\n",
            "       'Altitude_change', 'Course_change'],\n",
            "      dtype='object')\n"
          ]
        }
      ]
    },
    {
      "cell_type": "code",
      "source": [
        "plot_prediction(df_310, 'on_lift')"
      ],
      "metadata": {
        "colab": {
          "base_uri": "https://localhost:8080/",
          "height": 832
        },
        "id": "rqU3MZciZYBo",
        "outputId": "508491c2-6fae-4a15-ed1f-385647209d76"
      },
      "id": "rqU3MZciZYBo",
      "execution_count": 210,
      "outputs": [
        {
          "output_type": "display_data",
          "data": {
            "text/plain": [
              "<Figure size 1400x700 with 1 Axes>"
            ],
            "image/png": "[encoded data removed]"
          },
          "metadata": {}
        },
        {
          "output_type": "stream",
          "name": "stdout",
          "text": [
            "Index(['Timestamp', 'accelX(g)', 'accelY(g)', 'accelZ(g)', 'accelUserX(g)',\n",
            "       'accelUserY(g)', 'accelUserZ(g)', 'gyroX(rad/s)', 'gyroY(rad/s)',\n",
            "       'gyroZ(rad/s)', 'Roll(rads)', 'Pitch(rads)', 'Yaw(rads)', 'm11', 'm12',\n",
            "       'm13', 'm21', 'm22', 'm23', 'm31', 'm32', 'm33', 'qX', 'qY', 'qZ', 'qW',\n",
            "       'Lat', 'Long', 'Speed(m/s)', 'TrueHeading', 'Alt(m)',\n",
            "       'HorizontalAccuracy(m)', 'VerticalAccuracy(m)', 'Course',\n",
            "       'ActivityType', 'ActivityConfidence', 'Pressure(kilopascals)',\n",
            "       'RelativeAltitude(meters)', 'magX(µT)', 'magY(µT)', 'magZ(µT)',\n",
            "       'calMagX(µT)', 'calMagY(µT)', 'calMagZ(µT)', 'Cluster_1', 'on_lift',\n",
            "       'Speed_change', 'Altitude_change', 'Course_change'],\n",
            "      dtype='object')\n"
          ]
        }
      ]
    },
    {
      "cell_type": "markdown",
      "source": [
        "## Testing RNN construction\n"
      ],
      "metadata": {
        "id": "S-ek8WR28bLY"
      },
      "id": "S-ek8WR28bLY"
    },
    {
      "cell_type": "code",
      "source": [
        "import numpy as np\n",
        "import tensorflow as tf\n",
        "from tensorflow.keras.models import Sequential\n",
        "from tensorflow.keras.layers import LSTM, Dense, GRU\n",
        "from math import floor\n",
        "\n",
        "from sklearn.impute import SimpleImputer\n",
        "from sklearn.preprocessing import StandardScaler\n",
        "from sklearn.preprocessing import MinMaxScaler\n",
        "from keras.callbacks import EarlyStopping, ReduceLROnPlateau, ModelCheckpoint\n",
        "from keras.models import load_model"
      ],
      "metadata": {
        "id": "QFh93F-iN4nJ"
      },
      "id": "QFh93F-iN4nJ",
      "execution_count": 449,
      "outputs": []
    },
    {
      "cell_type": "markdown",
      "source": [
        "### Feature Selection"
      ],
      "metadata": {
        "id": "zt1XknRQKZdv"
      },
      "id": "zt1XknRQKZdv"
    },
    {
      "cell_type": "code",
      "source": [
        "# Define sequence length and other parameters\n",
        "sequence_length = 60 # 1 min\n",
        "num_classes = 1 # binary classification\n",
        "\n",
        "# Prepare your data\n",
        "def create_sequences(data, sequence_length):\n",
        "    sequences = []\n",
        "    for i in range(len(data) - sequence_length + 1):\n",
        "        sequence = data.iloc[i:i+sequence_length]\n",
        "        sequences.append(sequence.values)\n",
        "    return np.array(sequences)\n"
      ],
      "metadata": {
        "id": "AbJIWpAm9gY7"
      },
      "id": "AbJIWpAm9gY7",
      "execution_count": 140,
      "outputs": []
    },
    {
      "cell_type": "code",
      "source": [
        "def sequence_averaging(input_seq):\n",
        "  new_sequence = []\n",
        "  for sequence in input_seq:\n",
        "    sum = 0\n",
        "    for array in sequence:\n",
        "      sum = sum+array[0]\n",
        "    new_sequence.append(\n",
        "        int(round(sum/float(sequence_length), 0)))\n",
        "  return np.array(new_sequence)\n"
      ],
      "metadata": {
        "id": "QiyG5KHCZupr"
      },
      "id": "QiyG5KHCZupr",
      "execution_count": 314,
      "outputs": []
    },
    {
      "cell_type": "code",
      "source": [
        "# made difference sequence function for one every second\n",
        "\n",
        "# Define sequence length and other parameters\n",
        "sequence_length = 60 # 1 min\n",
        "num_classes = 1 # binary classification\n",
        "\n",
        "# Prepare your data\n",
        "def create_sequences(data, sequence_length):\n",
        "    sequences = []\n",
        "    for i in range(floor(len(data)/sequence_length)):\n",
        "        start = i*sequence_length\n",
        "        end = (i+1)*sequence_length\n",
        "        sequence = data.iloc[start:end]\n",
        "        sequences.append(sequence.values)\n",
        "    return np.array(sequences)"
      ],
      "metadata": {
        "id": "KjieYmXBUo3m"
      },
      "id": "KjieYmXBUo3m",
      "execution_count": null,
      "outputs": []
    },
    {
      "cell_type": "code",
      "source": [
        "features=[\n",
        "             #'Timestamp',\n",
        "             'accelX(g)', 'accelY(g)', 'accelZ(g)',\n",
        "             'accelUserX(g)','accelUserY(g)', 'accelUserZ(g)',\n",
        "             'gyroX(rad/s)', 'gyroY(rad/s)','gyroZ(rad/s)',\n",
        "             #'Roll(rads)', 'Pitch(rads)', 'Yaw(rads)',\n",
        "             #'m11', 'm12','m13', 'm21', 'm22', 'm23', 'm31', 'm32', 'm33',\n",
        "             #'qX', 'qY', 'qZ', 'qW',\n",
        "             'Lat', 'Long',\n",
        "             'Speed(m/s)',\n",
        "             #'TrueHeading',\n",
        "             'Alt(m)',\n",
        "             #'HorizontalAccuracy(m)', 'VerticalAccuracy(m)',\n",
        "             'Course',\n",
        "             #'ActivityType', 'ActivityConfidence',\n",
        "             #'Pressure(kilopascals)',\n",
        "             #'RelativeAltitude(meters)',\n",
        "             'magX(µT)', 'magY(µT)', 'magZ(µT)',\n",
        "             'calMagX(µT)', 'calMagY(µT)', 'calMagZ(µT)',\n",
        "             #'Cluster_1',\n",
        "             #'on_lift',\n",
        "             'Speed_change',\n",
        "             'Altitude_change',\n",
        "             'Course_change'\n",
        "             ]\n",
        "len(features)"
      ],
      "metadata": {
        "id": "5x5RZpfHCLRK",
        "colab": {
          "base_uri": "https://localhost:8080/"
        },
        "outputId": "4fffc5da-ce09-489d-a9eb-88bfc4cdedd3"
      },
      "id": "5x5RZpfHCLRK",
      "execution_count": 420,
      "outputs": [
        {
          "output_type": "execute_result",
          "data": {
            "text/plain": [
              "23"
            ]
          },
          "metadata": {},
          "execution_count": 420
        }
      ]
    },
    {
      "cell_type": "code",
      "source": [
        "# Data pre Processing\n",
        "# Load X and Y from desired file\n",
        "X = df_95[features]\n",
        "Y = df_95['on_lift']\n",
        "\n",
        "# Define preprocessing steps\n",
        "imputer = SimpleImputer(strategy='mean')\n",
        "scaler = MinMaxScaler()\n",
        "\n",
        "# Impute missing values\n",
        "X_imputed = imputer.fit_transform(X)\n",
        "\n",
        "# Scale features\n",
        "X_scaled = scaler.fit_transform(X_imputed)\n",
        "\n",
        "########## Scaling different features requires some thought. EG Lat, long vs alt #############"
      ],
      "metadata": {
        "id": "KWbgnvdMJSiT"
      },
      "id": "KWbgnvdMJSiT",
      "execution_count": 421,
      "outputs": []
    },
    {
      "cell_type": "code",
      "source": [
        "# generate train/Test split\n",
        "\n",
        "n = len(X_scaled)\n",
        "ratio = 0.7\n",
        "\n",
        "train_df = pd.DataFrame(data=X_scaled[0:int(n*ratio)], columns= features)\n",
        "test_df = pd.DataFrame(data=X_scaled[int(n*ratio):], columns= features)\n",
        "\n",
        "y_train = pd.DataFrame(data=Y[0:int(n*ratio)])\n",
        "y_test = pd.DataFrame(data=Y[int(n*ratio):])\n",
        "\n",
        "num_features = X_scaled.shape[1]"
      ],
      "metadata": {
        "id": "IyMk3dCIHMaU"
      },
      "id": "IyMk3dCIHMaU",
      "execution_count": 422,
      "outputs": []
    },
    {
      "cell_type": "code",
      "source": [
        "# DataFrame shape (num_samples, num_features)\n",
        "X_train_sequences = create_sequences(train_df, sequence_length)"
      ],
      "metadata": {
        "id": "cQxqYclNq3qB"
      },
      "id": "cQxqYclNq3qB",
      "execution_count": 423,
      "outputs": []
    },
    {
      "cell_type": "code",
      "source": [
        "train_df.shape, X_train_sequences.shape"
      ],
      "metadata": {
        "colab": {
          "base_uri": "https://localhost:8080/"
        },
        "id": "FQWMpajUTN4l",
        "outputId": "cc97170b-e6a1-4c00-9eba-1fd02af41ba7"
      },
      "id": "FQWMpajUTN4l",
      "execution_count": 424,
      "outputs": [
        {
          "output_type": "execute_result",
          "data": {
            "text/plain": [
              "((4001, 23), (3942, 60, 23))"
            ]
          },
          "metadata": {},
          "execution_count": 424
        }
      ]
    },
    {
      "cell_type": "code",
      "source": [
        "# DataFrame shape (num_samples, num_features)\n",
        "X_train_sequences = create_sequences(train_df, sequence_length)\n",
        "X_test_sequences = create_sequences(test_df, sequence_length)\n",
        "\n",
        "y_train_sequences = create_sequences(y_train, sequence_length)\n",
        "y_test_sequences = create_sequences(y_test, sequence_length)\n",
        "\n",
        "# Print shape to verify\n",
        "print(\"Shape of X_train_sequences:\", X_train_sequences.shape)\n",
        "print(\"Shape of X_test_sequences:\", X_test_sequences.shape)\n",
        "print(\"Shape of y_train_sequences:\", y_train_sequences.shape)\n",
        "print(\"Shape of y_test_sequences:\", y_test_sequences.shape)\n"
      ],
      "metadata": {
        "colab": {
          "base_uri": "https://localhost:8080/"
        },
        "id": "Pjvz6EcNVlUG",
        "outputId": "8ab6ba2f-bc37-4d97-d986-0ece038e57ff"
      },
      "id": "Pjvz6EcNVlUG",
      "execution_count": 425,
      "outputs": [
        {
          "output_type": "stream",
          "name": "stdout",
          "text": [
            "Shape of X_train_sequences: (3942, 60, 23)\n",
            "Shape of X_test_sequences: (1657, 60, 23)\n",
            "Shape of y_train_sequences: (3942, 60, 1)\n",
            "Shape of y_test_sequences: (1657, 60, 1)\n"
          ]
        }
      ]
    },
    {
      "cell_type": "code",
      "source": [
        "y_train_avg_sequences = sequence_averaging(y_train_sequences)\n",
        "y_test_avg_sequences = sequence_averaging(y_test_sequences)"
      ],
      "metadata": {
        "id": "y6C1pegHcZk3"
      },
      "id": "y6C1pegHcZk3",
      "execution_count": 426,
      "outputs": []
    },
    {
      "cell_type": "code",
      "source": [
        "print(\"Shape of y_train_avg_sequences:\", y_train_avg_sequences.shape)\n",
        "print(\"Shape of y_test_avg_sequences:\", y_test_avg_sequences.shape)"
      ],
      "metadata": {
        "colab": {
          "base_uri": "https://localhost:8080/"
        },
        "id": "bqDSX-5wSIRc",
        "outputId": "c2947116-f699-4a95-de9f-e8035db21e33"
      },
      "id": "bqDSX-5wSIRc",
      "execution_count": 427,
      "outputs": [
        {
          "output_type": "stream",
          "name": "stdout",
          "text": [
            "Shape of y_train_avg_sequences: (3942,)\n",
            "Shape of y_test_avg_sequences: (1657,)\n"
          ]
        }
      ]
    },
    {
      "cell_type": "code",
      "source": [
        "num_classes = 1\n",
        "num_features = len(features)\n",
        "\n",
        "# Define your model\n",
        "model = Sequential([\n",
        "    LSTM(64, input_shape=(sequence_length, num_features)),\n",
        "    Dense(num_classes, activation='sigmoid')\n",
        "                  ])"
      ],
      "metadata": {
        "id": "Ualivv8w8dUg"
      },
      "id": "Ualivv8w8dUg",
      "execution_count": 428,
      "outputs": []
    },
    {
      "cell_type": "code",
      "source": [
        "optimizer = tf.keras.optimizers.Adam(\n",
        "    learning_rate=0.0001,  # Set the learning rate\n",
        ")"
      ],
      "metadata": {
        "id": "MT8fUluJOIzc"
      },
      "id": "MT8fUluJOIzc",
      "execution_count": 429,
      "outputs": []
    },
    {
      "cell_type": "code",
      "source": [
        "model.reset_states()\n",
        "model.reset_metrics()"
      ],
      "metadata": {
        "id": "MgeIZnSMdX6d"
      },
      "id": "MgeIZnSMdX6d",
      "execution_count": 430,
      "outputs": []
    },
    {
      "cell_type": "code",
      "source": [
        "# Compile model\n",
        "model.compile(loss='binary_crossentropy', optimizer=optimizer, metrics=['accuracy'])"
      ],
      "metadata": {
        "id": "EDxZKLzaX01n"
      },
      "id": "EDxZKLzaX01n",
      "execution_count": 431,
      "outputs": []
    },
    {
      "cell_type": "code",
      "source": [
        "# Define the EarlyStopping callback\n",
        "early_stopping_callback = EarlyStopping(monitor='val_loss',\n",
        "                                        patience=10,\n",
        "                                        restore_best_weights=True,\n",
        "                                        verbose=1\n",
        "                                        )\n",
        "\n",
        "reduce_lr_callback = ReduceLROnPlateau(monitor='val_loss',\n",
        "                                       factor=0.5,\n",
        "                                       patience=4,\n",
        "                                       verbose=1,\n",
        "                                       mode='auto',\n",
        "                                       min_delta=0.0001,\n",
        "                                       cooldown=0,\n",
        "                                       min_lr=0)\n",
        "\n",
        "checkpoint_callback = ModelCheckpoint(filepath='best_model_weights.h5',\n",
        "                                      monitor='val_accuracy',\n",
        "                                      save_best_only=True,\n",
        "                                      save_weights_only=True,\n",
        "                                      verbose=1)"
      ],
      "metadata": {
        "id": "aOPFnxkplvsB"
      },
      "id": "aOPFnxkplvsB",
      "execution_count": 432,
      "outputs": []
    },
    {
      "cell_type": "code",
      "source": [
        "import matplotlib.pyplot as plt\n",
        "\n",
        "# Assuming 'history' contains the training history returned by model.fit()\n",
        "history = model.fit(X_train_sequences, y_train_avg_sequences,\n",
        "                    epochs=100,\n",
        "                    batch_size=32,\n",
        "                    validation_split=0.2,\n",
        "                    callbacks=[checkpoint_callback, early_stopping_callback, reduce_lr_callback]\n",
        "                    )"
      ],
      "metadata": {
        "colab": {
          "base_uri": "https://localhost:8080/"
        },
        "id": "xGa8pMHtlOsh",
        "outputId": "7d1c1320-978e-4807-9604-a4bd6381e343"
      },
      "id": "xGa8pMHtlOsh",
      "execution_count": 433,
      "outputs": [
        {
          "output_type": "stream",
          "name": "stdout",
          "text": [
            "Epoch 1/100\n",
            "98/99 [============================>.] - ETA: 0s - loss: 0.6310 - accuracy: 0.6846\n",
            "Epoch 1: val_accuracy improved from -inf to 1.00000, saving model to best_model_weights.h5\n",
            "99/99 [==============================] - 5s 33ms/step - loss: 0.6304 - accuracy: 0.6854 - val_loss: 0.4063 - val_accuracy: 1.0000 - lr: 1.0000e-04\n",
            "Epoch 2/100\n",
            "99/99 [==============================] - ETA: 0s - loss: 0.5881 - accuracy: 0.6876\n",
            "Epoch 2: val_accuracy did not improve from 1.00000\n",
            "99/99 [==============================] - 3s 27ms/step - loss: 0.5881 - accuracy: 0.6876 - val_loss: 0.2372 - val_accuracy: 1.0000 - lr: 1.0000e-04\n",
            "Epoch 3/100\n",
            "99/99 [==============================] - ETA: 0s - loss: 0.3478 - accuracy: 0.8589\n",
            "Epoch 3: val_accuracy did not improve from 1.00000\n",
            "99/99 [==============================] - 3s 32ms/step - loss: 0.3478 - accuracy: 0.8589 - val_loss: 0.1244 - val_accuracy: 0.9442 - lr: 1.0000e-04\n",
            "Epoch 4/100\n",
            "97/99 [============================>.] - ETA: 0s - loss: 0.2340 - accuracy: 0.9233\n",
            "Epoch 4: val_accuracy did not improve from 1.00000\n",
            "99/99 [==============================] - 3s 31ms/step - loss: 0.2333 - accuracy: 0.9232 - val_loss: 0.0856 - val_accuracy: 0.9759 - lr: 1.0000e-04\n",
            "Epoch 5/100\n",
            "98/99 [============================>.] - ETA: 0s - loss: 0.1605 - accuracy: 0.9506\n",
            "Epoch 5: val_accuracy did not improve from 1.00000\n",
            "99/99 [==============================] - 3s 27ms/step - loss: 0.1607 - accuracy: 0.9502 - val_loss: 0.1141 - val_accuracy: 0.9708 - lr: 1.0000e-04\n",
            "Epoch 6/100\n",
            "97/99 [============================>.] - ETA: 0s - loss: 0.1282 - accuracy: 0.9546\n",
            "Epoch 6: val_accuracy did not improve from 1.00000\n",
            "99/99 [==============================] - 3s 27ms/step - loss: 0.1300 - accuracy: 0.9543 - val_loss: 0.0745 - val_accuracy: 0.9848 - lr: 1.0000e-04\n",
            "Epoch 7/100\n",
            "99/99 [==============================] - ETA: 0s - loss: 0.0927 - accuracy: 0.9711\n",
            "Epoch 7: val_accuracy did not improve from 1.00000\n",
            "99/99 [==============================] - 3s 27ms/step - loss: 0.0927 - accuracy: 0.9711 - val_loss: 0.0933 - val_accuracy: 0.9582 - lr: 1.0000e-04\n",
            "Epoch 8/100\n",
            "97/99 [============================>.] - ETA: 0s - loss: 0.0888 - accuracy: 0.9736\n",
            "Epoch 8: val_accuracy did not improve from 1.00000\n",
            "99/99 [==============================] - 3s 34ms/step - loss: 0.0880 - accuracy: 0.9740 - val_loss: 0.0495 - val_accuracy: 0.9785 - lr: 1.0000e-04\n",
            "Epoch 9/100\n",
            "98/99 [============================>.] - ETA: 0s - loss: 0.0686 - accuracy: 0.9825\n",
            "Epoch 9: val_accuracy did not improve from 1.00000\n",
            "99/99 [==============================] - 3s 27ms/step - loss: 0.0684 - accuracy: 0.9826 - val_loss: 0.0692 - val_accuracy: 0.9785 - lr: 1.0000e-04\n",
            "Epoch 10/100\n",
            "98/99 [============================>.] - ETA: 0s - loss: 0.0559 - accuracy: 0.9853\n",
            "Epoch 10: val_accuracy did not improve from 1.00000\n",
            "99/99 [==============================] - 3s 27ms/step - loss: 0.0557 - accuracy: 0.9854 - val_loss: 0.1599 - val_accuracy: 0.9176 - lr: 1.0000e-04\n",
            "Epoch 11/100\n",
            "97/99 [============================>.] - ETA: 0s - loss: 0.0445 - accuracy: 0.9871\n",
            "Epoch 11: val_accuracy did not improve from 1.00000\n",
            "99/99 [==============================] - 3s 26ms/step - loss: 0.0451 - accuracy: 0.9870 - val_loss: 0.0570 - val_accuracy: 0.9734 - lr: 1.0000e-04\n",
            "Epoch 12/100\n",
            "97/99 [============================>.] - ETA: 0s - loss: 0.0439 - accuracy: 0.9897\n",
            "Epoch 12: val_accuracy did not improve from 1.00000\n",
            "\n",
            "Epoch 12: ReduceLROnPlateau reducing learning rate to 4.999999873689376e-05.\n",
            "99/99 [==============================] - 4s 36ms/step - loss: 0.0435 - accuracy: 0.9899 - val_loss: 0.1088 - val_accuracy: 0.9556 - lr: 1.0000e-04\n",
            "Epoch 13/100\n",
            "97/99 [============================>.] - ETA: 0s - loss: 0.0335 - accuracy: 0.9926\n",
            "Epoch 13: val_accuracy did not improve from 1.00000\n",
            "99/99 [==============================] - 3s 26ms/step - loss: 0.0334 - accuracy: 0.9924 - val_loss: 0.1014 - val_accuracy: 0.9594 - lr: 5.0000e-05\n",
            "Epoch 14/100\n",
            "97/99 [============================>.] - ETA: 0s - loss: 0.0405 - accuracy: 0.9890\n",
            "Epoch 14: val_accuracy did not improve from 1.00000\n",
            "99/99 [==============================] - 3s 26ms/step - loss: 0.0404 - accuracy: 0.9889 - val_loss: 0.1560 - val_accuracy: 0.9252 - lr: 5.0000e-05\n",
            "Epoch 15/100\n",
            "99/99 [==============================] - ETA: 0s - loss: 0.0316 - accuracy: 0.9918\n",
            "Epoch 15: val_accuracy did not improve from 1.00000\n",
            "99/99 [==============================] - 3s 26ms/step - loss: 0.0316 - accuracy: 0.9918 - val_loss: 0.1321 - val_accuracy: 0.9379 - lr: 5.0000e-05\n",
            "Epoch 16/100\n",
            "98/99 [============================>.] - ETA: 0s - loss: 0.0300 - accuracy: 0.9923\n",
            "Epoch 16: val_accuracy did not improve from 1.00000\n",
            "99/99 [==============================] - 4s 36ms/step - loss: 0.0299 - accuracy: 0.9924 - val_loss: 0.0417 - val_accuracy: 0.9759 - lr: 5.0000e-05\n",
            "Epoch 17/100\n",
            "98/99 [============================>.] - ETA: 0s - loss: 0.0268 - accuracy: 0.9939\n",
            "Epoch 17: val_accuracy did not improve from 1.00000\n",
            "99/99 [==============================] - 3s 27ms/step - loss: 0.0267 - accuracy: 0.9940 - val_loss: 0.1071 - val_accuracy: 0.9442 - lr: 5.0000e-05\n",
            "Epoch 18/100\n",
            "97/99 [============================>.] - ETA: 0s - loss: 0.0261 - accuracy: 0.9942\n",
            "Epoch 18: val_accuracy did not improve from 1.00000\n",
            "99/99 [==============================] - 3s 27ms/step - loss: 0.0262 - accuracy: 0.9943 - val_loss: 0.1169 - val_accuracy: 0.9404 - lr: 5.0000e-05\n",
            "Epoch 19/100\n",
            "99/99 [==============================] - ETA: 0s - loss: 0.0263 - accuracy: 0.9943\n",
            "Epoch 19: val_accuracy did not improve from 1.00000\n",
            "99/99 [==============================] - 3s 27ms/step - loss: 0.0263 - accuracy: 0.9943 - val_loss: 0.0343 - val_accuracy: 0.9810 - lr: 5.0000e-05\n",
            "Epoch 20/100\n",
            "99/99 [==============================] - ETA: 0s - loss: 0.0281 - accuracy: 0.9918\n",
            "Epoch 20: val_accuracy did not improve from 1.00000\n",
            "99/99 [==============================] - 3s 31ms/step - loss: 0.0281 - accuracy: 0.9918 - val_loss: 0.0716 - val_accuracy: 0.9645 - lr: 5.0000e-05\n",
            "Epoch 21/100\n",
            "97/99 [============================>.] - ETA: 0s - loss: 0.0258 - accuracy: 0.9942\n",
            "Epoch 21: val_accuracy did not improve from 1.00000\n",
            "99/99 [==============================] - 3s 31ms/step - loss: 0.0257 - accuracy: 0.9943 - val_loss: 0.0875 - val_accuracy: 0.9493 - lr: 5.0000e-05\n",
            "Epoch 22/100\n",
            "99/99 [==============================] - ETA: 0s - loss: 0.0215 - accuracy: 0.9949\n",
            "Epoch 22: val_accuracy did not improve from 1.00000\n",
            "99/99 [==============================] - 3s 27ms/step - loss: 0.0215 - accuracy: 0.9949 - val_loss: 0.0799 - val_accuracy: 0.9569 - lr: 5.0000e-05\n",
            "Epoch 23/100\n",
            "98/99 [============================>.] - ETA: 0s - loss: 0.0220 - accuracy: 0.9952\n",
            "Epoch 23: val_accuracy did not improve from 1.00000\n",
            "99/99 [==============================] - 3s 26ms/step - loss: 0.0219 - accuracy: 0.9952 - val_loss: 0.0145 - val_accuracy: 0.9962 - lr: 5.0000e-05\n",
            "Epoch 24/100\n",
            "98/99 [============================>.] - ETA: 0s - loss: 0.0217 - accuracy: 0.9939\n",
            "Epoch 24: val_accuracy did not improve from 1.00000\n",
            "99/99 [==============================] - 3s 26ms/step - loss: 0.0217 - accuracy: 0.9940 - val_loss: 0.1200 - val_accuracy: 0.9404 - lr: 5.0000e-05\n",
            "Epoch 25/100\n",
            "97/99 [============================>.] - ETA: 0s - loss: 0.0211 - accuracy: 0.9952\n",
            "Epoch 25: val_accuracy did not improve from 1.00000\n",
            "99/99 [==============================] - 4s 36ms/step - loss: 0.0213 - accuracy: 0.9949 - val_loss: 0.0193 - val_accuracy: 0.9987 - lr: 5.0000e-05\n",
            "Epoch 26/100\n",
            "98/99 [============================>.] - ETA: 0s - loss: 0.0271 - accuracy: 0.9917\n",
            "Epoch 26: val_accuracy did not improve from 1.00000\n",
            "99/99 [==============================] - 3s 26ms/step - loss: 0.0270 - accuracy: 0.9918 - val_loss: 0.0949 - val_accuracy: 0.9531 - lr: 5.0000e-05\n",
            "Epoch 27/100\n",
            "99/99 [==============================] - ETA: 0s - loss: 0.0205 - accuracy: 0.9946\n",
            "Epoch 27: val_accuracy did not improve from 1.00000\n",
            "\n",
            "Epoch 27: ReduceLROnPlateau reducing learning rate to 2.499999936844688e-05.\n",
            "99/99 [==============================] - 3s 26ms/step - loss: 0.0205 - accuracy: 0.9946 - val_loss: 0.0199 - val_accuracy: 0.9962 - lr: 5.0000e-05\n",
            "Epoch 28/100\n",
            "99/99 [==============================] - ETA: 0s - loss: 0.0176 - accuracy: 0.9946\n",
            "Epoch 28: val_accuracy did not improve from 1.00000\n",
            "99/99 [==============================] - 3s 27ms/step - loss: 0.0176 - accuracy: 0.9946 - val_loss: 0.0152 - val_accuracy: 0.9962 - lr: 2.5000e-05\n",
            "Epoch 29/100\n",
            "99/99 [==============================] - ETA: 0s - loss: 0.0195 - accuracy: 0.9946\n",
            "Epoch 29: val_accuracy did not improve from 1.00000\n",
            "99/99 [==============================] - 4s 36ms/step - loss: 0.0195 - accuracy: 0.9946 - val_loss: 0.0109 - val_accuracy: 0.9975 - lr: 2.5000e-05\n",
            "Epoch 30/100\n",
            "98/99 [============================>.] - ETA: 0s - loss: 0.0168 - accuracy: 0.9949\n",
            "Epoch 30: val_accuracy did not improve from 1.00000\n",
            "99/99 [==============================] - 3s 25ms/step - loss: 0.0167 - accuracy: 0.9949 - val_loss: 0.0128 - val_accuracy: 0.9987 - lr: 2.5000e-05\n",
            "Epoch 31/100\n",
            "98/99 [============================>.] - ETA: 0s - loss: 0.0148 - accuracy: 0.9952\n",
            "Epoch 31: val_accuracy did not improve from 1.00000\n",
            "99/99 [==============================] - 3s 26ms/step - loss: 0.0150 - accuracy: 0.9952 - val_loss: 0.0122 - val_accuracy: 0.9975 - lr: 2.5000e-05\n",
            "Epoch 32/100\n",
            "98/99 [============================>.] - ETA: 0s - loss: 0.0143 - accuracy: 0.9962\n",
            "Epoch 32: val_accuracy did not improve from 1.00000\n",
            "99/99 [==============================] - 3s 27ms/step - loss: 0.0143 - accuracy: 0.9962 - val_loss: 0.0230 - val_accuracy: 0.9962 - lr: 2.5000e-05\n",
            "Epoch 33/100\n",
            "98/99 [============================>.] - ETA: 0s - loss: 0.0133 - accuracy: 0.9971\n",
            "Epoch 33: val_accuracy did not improve from 1.00000\n",
            "\n",
            "Epoch 33: ReduceLROnPlateau reducing learning rate to 1.249999968422344e-05.\n",
            "99/99 [==============================] - 3s 31ms/step - loss: 0.0133 - accuracy: 0.9971 - val_loss: 0.0338 - val_accuracy: 0.9835 - lr: 2.5000e-05\n",
            "Epoch 34/100\n",
            "97/99 [============================>.] - ETA: 0s - loss: 0.0139 - accuracy: 0.9965\n",
            "Epoch 34: val_accuracy did not improve from 1.00000\n",
            "99/99 [==============================] - 3s 29ms/step - loss: 0.0138 - accuracy: 0.9965 - val_loss: 0.0150 - val_accuracy: 0.9975 - lr: 1.2500e-05\n",
            "Epoch 35/100\n",
            "99/99 [==============================] - ETA: 0s - loss: 0.0126 - accuracy: 0.9978\n",
            "Epoch 35: val_accuracy did not improve from 1.00000\n",
            "99/99 [==============================] - 3s 26ms/step - loss: 0.0126 - accuracy: 0.9978 - val_loss: 0.0563 - val_accuracy: 0.9670 - lr: 1.2500e-05\n",
            "Epoch 36/100\n",
            "99/99 [==============================] - ETA: 0s - loss: 0.0122 - accuracy: 0.9981\n",
            "Epoch 36: val_accuracy did not improve from 1.00000\n",
            "99/99 [==============================] - 3s 26ms/step - loss: 0.0122 - accuracy: 0.9981 - val_loss: 0.0383 - val_accuracy: 0.9810 - lr: 1.2500e-05\n",
            "Epoch 37/100\n",
            "98/99 [============================>.] - ETA: 0s - loss: 0.0114 - accuracy: 0.9978\n",
            "Epoch 37: val_accuracy did not improve from 1.00000\n",
            "\n",
            "Epoch 37: ReduceLROnPlateau reducing learning rate to 6.24999984211172e-06.\n",
            "99/99 [==============================] - 3s 27ms/step - loss: 0.0114 - accuracy: 0.9978 - val_loss: 0.0695 - val_accuracy: 0.9632 - lr: 1.2500e-05\n",
            "Epoch 38/100\n",
            "97/99 [============================>.] - ETA: 0s - loss: 0.0113 - accuracy: 0.9977\n",
            "Epoch 38: val_accuracy did not improve from 1.00000\n",
            "99/99 [==============================] - 4s 36ms/step - loss: 0.0112 - accuracy: 0.9978 - val_loss: 0.0238 - val_accuracy: 0.9924 - lr: 6.2500e-06\n",
            "Epoch 39/100\n",
            "99/99 [==============================] - ETA: 0s - loss: 0.0107 - accuracy: 0.9987\n",
            "Epoch 39: val_accuracy did not improve from 1.00000\n",
            "Restoring model weights from the end of the best epoch: 29.\n",
            "99/99 [==============================] - 3s 27ms/step - loss: 0.0107 - accuracy: 0.9987 - val_loss: 0.0191 - val_accuracy: 0.9962 - lr: 6.2500e-06\n",
            "Epoch 39: early stopping\n"
          ]
        }
      ]
    },
    {
      "cell_type": "code",
      "source": [
        "# Plot training and validation accuracy\n",
        "plt.plot(history.history['accuracy'], label='Training Accuracy')\n",
        "plt.plot(history.history['val_accuracy'], label='Validation Accuracy')\n",
        "plt.xlabel('Epoch')\n",
        "plt.ylabel('Accuracy')\n",
        "plt.title('Training and Validation Accuracy')\n",
        "plt.legend()\n",
        "plt.show()"
      ],
      "metadata": {
        "colab": {
          "base_uri": "https://localhost:8080/",
          "height": 472
        },
        "id": "f7v1Izn-lo3s",
        "outputId": "c04eb015-87da-468e-ef92-c71cb2c2397a"
      },
      "id": "f7v1Izn-lo3s",
      "execution_count": 434,
      "outputs": [
        {
          "output_type": "display_data",
          "data": {
            "text/plain": [
              "<Figure size 640x480 with 1 Axes>"
            ],
            "image/png": "[encoded data removed]"
          },
          "metadata": {}
        }
      ]
    },
    {
      "cell_type": "code",
      "source": [
        "# Evaluate your model\n",
        "loss, accuracy = model.evaluate(X_test_sequences, y_test_avg_sequences)\n",
        "print(f'Test Loss: {loss}, Test Accuracy: {accuracy}')"
      ],
      "metadata": {
        "colab": {
          "base_uri": "https://localhost:8080/"
        },
        "id": "d5lFN-BHXy20",
        "outputId": "b6db23c8-b060-46c7-960a-c87d24cccd6e"
      },
      "id": "d5lFN-BHXy20",
      "execution_count": 435,
      "outputs": [
        {
          "output_type": "stream",
          "name": "stdout",
          "text": [
            "52/52 [==============================] - 1s 9ms/step - loss: 0.8791 - accuracy: 0.8467\n",
            "Test Loss: 0.879106879234314, Test Accuracy: 0.8467109203338623\n"
          ]
        }
      ]
    },
    {
      "cell_type": "markdown",
      "metadata": {
        "id": "5850936f-833b-4115-b47c-0d2b04f63799"
      },
      "source": [
        "### Evaluation"
      ],
      "id": "5850936f-833b-4115-b47c-0d2b04f63799"
    },
    {
      "cell_type": "markdown",
      "source": [
        "## 95 data"
      ],
      "metadata": {
        "id": "vIlLNNmbYPFJ"
      },
      "id": "vIlLNNmbYPFJ"
    },
    {
      "cell_type": "code",
      "source": [
        "# Data pre Processing\n",
        "# Load X and Y from desired file\n",
        "X_95 = df_95[features]\n",
        "y_95 = df_95['on_lift']\n",
        "\n",
        "# Impute missing values\n",
        "X_95_imputed = imputer.fit_transform(X_95)\n",
        "\n",
        "# Scale features\n",
        "X_95_scaled = scaler.fit_transform(X_95_imputed)\n",
        "\n",
        "num_95_features = X_95_scaled.shape[1]\n",
        "########## Scaling different features requires some thought. EG Lat, long vs alt #############"
      ],
      "metadata": {
        "id": "ieURqGz4YPFW"
      },
      "execution_count": 436,
      "outputs": [],
      "id": "ieURqGz4YPFW"
    },
    {
      "cell_type": "code",
      "source": [
        "# DataFrame shape (num_samples, num_features)\n",
        "X_95_sequences = create_sequences(pd.DataFrame(X_95_scaled), sequence_length)\n",
        "y_95_sequences = create_sequences(pd.DataFrame(y_95), sequence_length)\n",
        "\n",
        "# Print shape to verify\n",
        "print(\"Shape of X_95_sequences:\", X_95_sequences.shape)\n",
        "print(\"Shape of y_95_sequences:\", y_95_sequences.shape)"
      ],
      "metadata": {
        "colab": {
          "base_uri": "https://localhost:8080/"
        },
        "outputId": "d795c95b-bbcd-4231-e74c-4ef47af47201",
        "id": "XtQ0gGBlYPFW"
      },
      "execution_count": 437,
      "outputs": [
        {
          "output_type": "stream",
          "name": "stdout",
          "text": [
            "Shape of X_95_sequences: (5658, 60, 23)\n",
            "Shape of y_95_sequences: (5658, 60, 1)\n"
          ]
        }
      ],
      "id": "XtQ0gGBlYPFW"
    },
    {
      "cell_type": "code",
      "source": [
        "# Evaluate your model\n",
        "loss_95, accuracy_95 = model.evaluate(X_95_sequences, y_95_sequences)\n",
        "print(f'Test Loss_95: {loss_95}, Test Accuracy_95: {accuracy_95}')"
      ],
      "metadata": {
        "colab": {
          "base_uri": "https://localhost:8080/"
        },
        "outputId": "a1817270-42f0-4bbe-a7c1-699a7026d129",
        "id": "kBSd5AxLYPFX"
      },
      "execution_count": 438,
      "outputs": [
        {
          "output_type": "stream",
          "name": "stdout",
          "text": [
            "177/177 [==============================] - 2s 9ms/step - loss: 0.3684 - accuracy: 0.9279\n",
            "Test Loss_95: 0.3684363067150116, Test Accuracy_95: 0.9278631210327148\n"
          ]
        }
      ],
      "id": "kBSd5AxLYPFX"
    },
    {
      "cell_type": "markdown",
      "source": [
        "## 206 data"
      ],
      "metadata": {
        "id": "yV-CY7Rwhowj"
      },
      "id": "yV-CY7Rwhowj"
    },
    {
      "cell_type": "code",
      "source": [
        "# Data pre Processing\n",
        "# Load X and Y from desired file\n",
        "X_206 = df_206[features]\n",
        "y_206 = df_206['on_lift']\n",
        "\n",
        "# Impute missing values\n",
        "X_206_imputed = imputer.fit_transform(X_206)\n",
        "\n",
        "# Scale features\n",
        "X_206_scaled = scaler.fit_transform(X_206_imputed)\n",
        "\n",
        "num_206_features = X_206_scaled.shape[1]\n",
        "########## Scaling different features requires some thought. EG Lat, long vs alt #############"
      ],
      "metadata": {
        "id": "XN2QCkrchv2o"
      },
      "execution_count": 439,
      "outputs": [],
      "id": "XN2QCkrchv2o"
    },
    {
      "cell_type": "code",
      "source": [
        "# DataFrame shape (num_samples, num_features)\n",
        "X_206_sequences = create_sequences(pd.DataFrame(X_206_scaled), sequence_length)\n",
        "y_206_sequences = create_sequences(pd.DataFrame(y_206), sequence_length)\n",
        "\n",
        "# Print shape to verify\n",
        "print(\"Shape of X_206_sequences:\", X_206_sequences.shape)\n",
        "print(\"Shape of y_206_sequences:\", y_206_sequences.shape)"
      ],
      "metadata": {
        "colab": {
          "base_uri": "https://localhost:8080/"
        },
        "outputId": "b1aff57f-c7e4-4d9c-842f-292bb0a1d828",
        "id": "avLegJ2vhv2o"
      },
      "execution_count": 440,
      "outputs": [
        {
          "output_type": "stream",
          "name": "stdout",
          "text": [
            "Shape of X_206_sequences: (12314, 60, 23)\n",
            "Shape of y_206_sequences: (12314, 60, 1)\n"
          ]
        }
      ],
      "id": "avLegJ2vhv2o"
    },
    {
      "cell_type": "code",
      "source": [
        "# Evaluate your model\n",
        "loss_206, accuracy_206 = model.evaluate(X_206_sequences, y_206_sequences)\n",
        "print(f'Test Loss_206: {loss_206}, Test Accuracy_206: {accuracy_206}')"
      ],
      "metadata": {
        "colab": {
          "base_uri": "https://localhost:8080/"
        },
        "outputId": "d6e21b8c-faab-42ed-bdb9-ffe0f9d9af41",
        "id": "Z7VYG2ABXdIe"
      },
      "execution_count": 441,
      "outputs": [
        {
          "output_type": "stream",
          "name": "stdout",
          "text": [
            "385/385 [==============================] - 4s 10ms/step - loss: 1.0330 - accuracy: 0.8359\n",
            "Test Loss_206: 1.0330026149749756, Test Accuracy_206: 0.8359184861183167\n"
          ]
        }
      ],
      "id": "Z7VYG2ABXdIe"
    },
    {
      "cell_type": "markdown",
      "source": [
        "## 310 data"
      ],
      "metadata": {
        "id": "Y8psOzOmT4dL"
      },
      "id": "Y8psOzOmT4dL"
    },
    {
      "cell_type": "code",
      "source": [
        "# Data pre Processing\n",
        "# Load X and Y from desired file\n",
        "X_310 = df_310[features]\n",
        "y_310 = df_310['on_lift']\n",
        "\n",
        "# Impute missing values\n",
        "X_310_imputed = imputer.fit_transform(X_310)\n",
        "\n",
        "# Scale features\n",
        "X_310_scaled = scaler.fit_transform(X_310_imputed)\n",
        "\n",
        "num_310_features = X_310_scaled.shape[1]\n",
        "########## Scaling different features requires some thought. EG Lat, long vs alt #############\n"
      ],
      "metadata": {
        "id": "U6gHzVoXT1p4"
      },
      "execution_count": 442,
      "outputs": [],
      "id": "U6gHzVoXT1p4"
    },
    {
      "cell_type": "code",
      "source": [
        "# DataFrame shape (num_samples, num_features)\n",
        "X_310_train_sequences = create_sequences(pd.DataFrame(X_310_scaled), sequence_length)\n",
        "\n",
        "y_310_train_sequences = create_sequences(pd.DataFrame(y_310), sequence_length)\n",
        "\n",
        "# Print shape to verify\n",
        "print(\"Shape of X_310_train_sequences:\", X_310_train_sequences.shape)\n",
        "\n",
        "print(\"Shape of y_310_train_sequences:\", y_310_train_sequences.shape)\n",
        "\n"
      ],
      "metadata": {
        "colab": {
          "base_uri": "https://localhost:8080/"
        },
        "id": "-VJKF27-Tx06",
        "outputId": "f385e0a1-0af2-4011-85a2-27fcf75a03e8"
      },
      "id": "-VJKF27-Tx06",
      "execution_count": 443,
      "outputs": [
        {
          "output_type": "stream",
          "name": "stdout",
          "text": [
            "Shape of X_310_train_sequences: (18518, 60, 23)\n",
            "Shape of y_310_train_sequences: (18518, 60, 1)\n"
          ]
        }
      ]
    },
    {
      "cell_type": "code",
      "source": [
        "y_310_train_sequences = sequence_averaging(y_310_train_sequences)"
      ],
      "metadata": {
        "id": "bYIVQdHSlUa5"
      },
      "id": "bYIVQdHSlUa5",
      "execution_count": 444,
      "outputs": []
    },
    {
      "cell_type": "code",
      "source": [
        "# Evaluate your model\n",
        "loss_310, accuracy_310 = model.evaluate(X_310_train_sequences, y_310_train_sequences)\n",
        "print(f'Test Loss_310: {loss_310}, Test Accuracy_310: {accuracy_310}')"
      ],
      "metadata": {
        "colab": {
          "base_uri": "https://localhost:8080/"
        },
        "id": "Qub7u2yYTx9h",
        "outputId": "1db96e29-ecb5-4188-f19e-e15e5062f592"
      },
      "id": "Qub7u2yYTx9h",
      "execution_count": 445,
      "outputs": [
        {
          "output_type": "stream",
          "name": "stdout",
          "text": [
            "579/579 [==============================] - 5s 9ms/step - loss: 1.1968 - accuracy: 0.8101\n",
            "Test Loss_310: 1.1967763900756836, Test Accuracy_310: 0.8101306557655334\n"
          ]
        }
      ]
    },
    {
      "cell_type": "code",
      "source": [
        "model.save(\"best_model_23_params.h5\")"
      ],
      "metadata": {
        "colab": {
          "base_uri": "https://localhost:8080/"
        },
        "id": "o0nPAcOXvAd5",
        "outputId": "bb12ecda-8f13-4f8b-ce70-15813d80fee6"
      },
      "id": "o0nPAcOXvAd5",
      "execution_count": 446,
      "outputs": [
        {
          "output_type": "stream",
          "name": "stderr",
          "text": [
            "/usr/local/lib/python3.10/dist-packages/keras/src/engine/training.py:3103: UserWarning: You are saving your model as an HDF5 file via `model.save()`. This file format is considered legacy. We recommend using instead the native Keras format, e.g. `model.save('my_model.keras')`.\n",
            "  saving_api.save_model(\n"
          ]
        }
      ]
    },
    {
      "cell_type": "code",
      "source": [
        "best_model = load_model(\"best_model_23_params.h5\")"
      ],
      "metadata": {
        "id": "DeqFx0I5vgMY"
      },
      "id": "DeqFx0I5vgMY",
      "execution_count": 450,
      "outputs": []
    },
    {
      "cell_type": "markdown",
      "source": [
        "# Second Model"
      ],
      "metadata": {
        "id": "Ty_ZQKJrZ90b"
      },
      "id": "Ty_ZQKJrZ90b"
    },
    {
      "cell_type": "code",
      "source": [
        "# Concatenate the DataFrames along the index axis\n",
        "df_total = pd.concat([df_95, df_206])"
      ],
      "metadata": {
        "id": "fKxo88ZXxyxS"
      },
      "id": "fKxo88ZXxyxS",
      "execution_count": 688,
      "outputs": []
    },
    {
      "cell_type": "code",
      "source": [
        "features=[\n",
        "             #'Timestamp',\n",
        "             'accelX(g)', 'accelY(g)', 'accelZ(g)',\n",
        "             'accelUserX(g)','accelUserY(g)', 'accelUserZ(g)',\n",
        "             'gyroX(rad/s)', 'gyroY(rad/s)','gyroZ(rad/s)',\n",
        "             #'Roll(rads)', 'Pitch(rads)', 'Yaw(rads)',\n",
        "             #'m11', 'm12','m13', 'm21', 'm22', 'm23', 'm31', 'm32', 'm33',\n",
        "             #'qX', 'qY', 'qZ', 'qW',\n",
        "             'Lat', 'Long',\n",
        "             'Speed(m/s)',\n",
        "             #'TrueHeading',\n",
        "             'Alt(m)',\n",
        "             #'HorizontalAccuracy(m)', 'VerticalAccuracy(m)',\n",
        "             'Course',\n",
        "             #'ActivityType', 'ActivityConfidence',\n",
        "             #'Pressure(kilopascals)',\n",
        "             #'RelativeAltitude(meters)',\n",
        "             'magX(µT)', 'magY(µT)', 'magZ(µT)',\n",
        "             'calMagX(µT)', 'calMagY(µT)', 'calMagZ(µT)',\n",
        "             #'Cluster_1',\n",
        "             #'on_lift',\n",
        "             'Speed_change',\n",
        "             'Altitude_change',\n",
        "             'Course_change'\n",
        "             ]\n",
        "len(features)"
      ],
      "metadata": {
        "colab": {
          "base_uri": "https://localhost:8080/"
        },
        "outputId": "7f4ea7c4-9807-4f90-d3f0-d1068d759cb9",
        "id": "m9gzSzbkxy7z"
      },
      "execution_count": 611,
      "outputs": [
        {
          "output_type": "execute_result",
          "data": {
            "text/plain": [
              "23"
            ]
          },
          "metadata": {},
          "execution_count": 611
        }
      ],
      "id": "m9gzSzbkxy7z"
    },
    {
      "cell_type": "code",
      "source": [
        "# Data pre Processing\n",
        "# Load X and Y from desired file\n",
        "X = df_95[features]\n",
        "Y = df_95['on_lift']\n",
        "\n",
        "# Define preprocessing steps\n",
        "imputer = SimpleImputer(strategy='mean')\n",
        "scaler = MinMaxScaler()\n",
        "\n",
        "# Impute missing values\n",
        "X_imputed = imputer.fit_transform(X)\n",
        "\n",
        "# Scale features\n",
        "X_scaled = scaler.fit_transform(X_imputed)\n",
        "\n",
        "########## Scaling different features requires some thought. EG Lat, long vs alt #############"
      ],
      "metadata": {
        "id": "Kshg_vbgxg8e"
      },
      "execution_count": 672,
      "outputs": [],
      "id": "Kshg_vbgxg8e"
    },
    {
      "cell_type": "code",
      "source": [
        "# generate train/Test split\n",
        "\n",
        "n = len(X_scaled)\n",
        "ratio = 0.8\n",
        "\n",
        "train_df = pd.DataFrame(data=X_scaled[0:int(n*ratio)], columns= features)\n",
        "test_df = pd.DataFrame(data=X_scaled[int(n*ratio):], columns= features)\n",
        "\n",
        "y_train = pd.DataFrame(data=Y[0:int(n*ratio)])\n",
        "y_test = pd.DataFrame(data=Y[int(n*ratio):])\n",
        "\n",
        "num_features = X_scaled.shape[1]"
      ],
      "metadata": {
        "id": "jInWoJpSxg8v"
      },
      "execution_count": 675,
      "outputs": [],
      "id": "jInWoJpSxg8v"
    },
    {
      "cell_type": "code",
      "source": [
        "# DataFrame shape (num_samples, num_features)\n",
        "X_train_sequences = create_sequences(train_df, sequence_length)"
      ],
      "metadata": {
        "id": "882qhEIBxg8w"
      },
      "execution_count": 676,
      "outputs": [],
      "id": "882qhEIBxg8w"
    },
    {
      "cell_type": "code",
      "source": [
        "train_df.shape, X_train_sequences.shape"
      ],
      "metadata": {
        "colab": {
          "base_uri": "https://localhost:8080/"
        },
        "outputId": "3716e798-c941-45c6-a16b-a54841a4a3a5",
        "id": "Rh5fosOlxg8w"
      },
      "execution_count": 677,
      "outputs": [
        {
          "output_type": "execute_result",
          "data": {
            "text/plain": [
              "((14472, 23), (14413, 60, 23))"
            ]
          },
          "metadata": {},
          "execution_count": 677
        }
      ],
      "id": "Rh5fosOlxg8w"
    },
    {
      "cell_type": "code",
      "source": [
        "# DataFrame shape (num_samples, num_features)\n",
        "X_train_sequences = create_sequences(train_df, sequence_length)\n",
        "X_test_sequences = create_sequences(test_df, sequence_length)\n",
        "\n",
        "y_train_sequences = create_sequences(y_train, sequence_length)\n",
        "y_test_sequences = create_sequences(y_test, sequence_length)\n",
        "\n",
        "# Print shape to verify\n",
        "print(\"Shape of X_train_sequences:\", X_train_sequences.shape)\n",
        "print(\"Shape of X_test_sequences:\", X_test_sequences.shape)\n",
        "print(\"Shape of y_train_sequences:\", y_train_sequences.shape)\n",
        "print(\"Shape of y_test_sequences:\", y_test_sequences.shape)\n"
      ],
      "metadata": {
        "colab": {
          "base_uri": "https://localhost:8080/"
        },
        "outputId": "c3012d68-9865-4387-e822-a3daf04d5e24",
        "id": "wFvTwMkCxg8w"
      },
      "execution_count": 678,
      "outputs": [
        {
          "output_type": "stream",
          "name": "stdout",
          "text": [
            "Shape of X_train_sequences: (14413, 60, 23)\n",
            "Shape of X_test_sequences: (3559, 60, 23)\n",
            "Shape of y_train_sequences: (14413, 60, 1)\n",
            "Shape of y_test_sequences: (3559, 60, 1)\n"
          ]
        }
      ],
      "id": "wFvTwMkCxg8w"
    },
    {
      "cell_type": "code",
      "source": [
        "y_train_avg_sequences = sequence_averaging(y_train_sequences)\n",
        "y_test_avg_sequences = sequence_averaging(y_test_sequences)"
      ],
      "metadata": {
        "id": "ljt8ANb9xg8w"
      },
      "execution_count": 679,
      "outputs": [],
      "id": "ljt8ANb9xg8w"
    },
    {
      "cell_type": "code",
      "source": [
        "print(\"Shape of y_train_avg_sequences:\", y_train_avg_sequences.shape)\n",
        "print(\"Shape of y_test_avg_sequences:\", y_test_avg_sequences.shape)"
      ],
      "metadata": {
        "colab": {
          "base_uri": "https://localhost:8080/"
        },
        "outputId": "b3aac26e-dc27-4326-e453-146e0fc6d3fb",
        "id": "qqJfhvfqxg8w"
      },
      "execution_count": 680,
      "outputs": [
        {
          "output_type": "stream",
          "name": "stdout",
          "text": [
            "Shape of y_train_avg_sequences: (14413,)\n",
            "Shape of y_test_avg_sequences: (3559,)\n"
          ]
        }
      ],
      "id": "qqJfhvfqxg8w"
    },
    {
      "cell_type": "code",
      "source": [
        "num_classes = 1\n",
        "num_features = len(features)\n",
        "\n",
        "# Define your model\n",
        "model = Sequential([\n",
        "    GRU(64, input_shape=(sequence_length, num_features)),\n",
        "    Dense(num_classes, activation='sigmoid')\n",
        "                  ])"
      ],
      "metadata": {
        "id": "lMi0IblOxg8x"
      },
      "execution_count": 681,
      "outputs": [],
      "id": "lMi0IblOxg8x"
    },
    {
      "cell_type": "code",
      "source": [
        "optimizer = tf.keras.optimizers.Adam(\n",
        "    learning_rate=0.0005,  # Set the learning rate\n",
        ")"
      ],
      "metadata": {
        "id": "LZV3FiJUxg8x"
      },
      "execution_count": 683,
      "outputs": [],
      "id": "LZV3FiJUxg8x"
    },
    {
      "cell_type": "code",
      "source": [
        "model.reset_states()\n",
        "model.reset_metrics()"
      ],
      "metadata": {
        "id": "zEMcDKcOxg8x"
      },
      "execution_count": 684,
      "outputs": [],
      "id": "zEMcDKcOxg8x"
    },
    {
      "cell_type": "code",
      "source": [
        "# Compile model\n",
        "model.compile(loss='binary_crossentropy', optimizer=optimizer, metrics=['accuracy'])"
      ],
      "metadata": {
        "id": "CyA4E2oixg8x"
      },
      "execution_count": 685,
      "outputs": [],
      "id": "CyA4E2oixg8x"
    },
    {
      "cell_type": "code",
      "source": [
        "# Define the EarlyStopping callback\n",
        "early_stopping_callback = EarlyStopping(monitor='val_loss',\n",
        "                                        patience=10,\n",
        "                                        restore_best_weights=True,\n",
        "                                        verbose=1\n",
        "                                        )\n",
        "\n",
        "reduce_lr_callback = ReduceLROnPlateau(monitor='val_loss',\n",
        "                                       factor=0.5,\n",
        "                                       patience=4,\n",
        "                                       verbose=1,\n",
        "                                       mode='auto',\n",
        "                                       min_delta=0.0001,\n",
        "                                       cooldown=0,\n",
        "                                       min_lr=0)\n",
        "\n",
        "checkpoint_callback = ModelCheckpoint(filepath='best_model_weights.h5',\n",
        "                                      monitor='val_accuracy',\n",
        "                                      save_best_only=True,\n",
        "                                      save_weights_only=True,\n",
        "                                      verbose=1)"
      ],
      "metadata": {
        "id": "vwzrgdiUxg8x"
      },
      "execution_count": 686,
      "outputs": [],
      "id": "vwzrgdiUxg8x"
    },
    {
      "cell_type": "code",
      "source": [
        "# Assuming 'history' contains the training history returned by model.fit()\n",
        "history = model.fit(X_train_sequences, y_train_avg_sequences,\n",
        "                    epochs=100,\n",
        "                    batch_size=32,\n",
        "                    validation_split=0.2,\n",
        "                    callbacks=[checkpoint_callback, early_stopping_callback, reduce_lr_callback]\n",
        "                    )"
      ],
      "metadata": {
        "colab": {
          "base_uri": "https://localhost:8080/"
        },
        "outputId": "e43fc611-f99b-4942-d49d-62a12278f66e",
        "id": "P5NywVJxxg8x"
      },
      "execution_count": 687,
      "outputs": [
        {
          "output_type": "stream",
          "name": "stdout",
          "text": [
            "Epoch 1/100\n",
            "361/361 [==============================] - ETA: 0s - loss: 0.6331 - accuracy: 0.7238\n",
            "Epoch 1: val_accuracy improved from -inf to 0.93202, saving model to best_model_weights.h5\n",
            "361/361 [==============================] - 14s 33ms/step - loss: 0.6331 - accuracy: 0.7238 - val_loss: 0.4845 - val_accuracy: 0.9320 - lr: 1.0000e-05\n",
            "Epoch 2/100\n",
            "359/361 [============================>.] - ETA: 0s - loss: 0.5738 - accuracy: 0.7653\n",
            "Epoch 2: val_accuracy did not improve from 0.93202\n",
            "361/361 [==============================] - 11s 31ms/step - loss: 0.5736 - accuracy: 0.7655 - val_loss: 0.3989 - val_accuracy: 0.9320 - lr: 1.0000e-05\n",
            "Epoch 3/100\n",
            "359/361 [============================>.] - ETA: 0s - loss: 0.5608 - accuracy: 0.7657\n",
            "Epoch 3: val_accuracy did not improve from 0.93202\n",
            "361/361 [==============================] - 11s 32ms/step - loss: 0.5610 - accuracy: 0.7655 - val_loss: 0.3694 - val_accuracy: 0.9320 - lr: 1.0000e-05\n",
            "Epoch 4/100\n",
            "360/361 [============================>.] - ETA: 0s - loss: 0.5581 - accuracy: 0.7655\n",
            "Epoch 4: val_accuracy did not improve from 0.93202\n",
            "361/361 [==============================] - 11s 30ms/step - loss: 0.5581 - accuracy: 0.7655 - val_loss: 0.3607 - val_accuracy: 0.9320 - lr: 1.0000e-05\n",
            "Epoch 5/100\n",
            "359/361 [============================>.] - ETA: 0s - loss: 0.5564 - accuracy: 0.7654\n",
            "Epoch 5: val_accuracy did not improve from 0.93202\n",
            "361/361 [==============================] - 11s 32ms/step - loss: 0.5563 - accuracy: 0.7655 - val_loss: 0.3561 - val_accuracy: 0.9320 - lr: 1.0000e-05\n",
            "Epoch 6/100\n",
            "361/361 [==============================] - ETA: 0s - loss: 0.5546 - accuracy: 0.7655\n",
            "Epoch 6: val_accuracy did not improve from 0.93202\n",
            "361/361 [==============================] - 11s 31ms/step - loss: 0.5546 - accuracy: 0.7655 - val_loss: 0.3555 - val_accuracy: 0.9320 - lr: 1.0000e-05\n",
            "Epoch 7/100\n",
            "360/361 [============================>.] - ETA: 0s - loss: 0.5532 - accuracy: 0.7654\n",
            "Epoch 7: val_accuracy did not improve from 0.93202\n",
            "361/361 [==============================] - 11s 31ms/step - loss: 0.5531 - accuracy: 0.7655 - val_loss: 0.3549 - val_accuracy: 0.9320 - lr: 1.0000e-05\n",
            "Epoch 8/100\n",
            "360/361 [============================>.] - ETA: 0s - loss: 0.5513 - accuracy: 0.7656\n",
            "Epoch 8: val_accuracy did not improve from 0.93202\n",
            "361/361 [==============================] - 11s 31ms/step - loss: 0.5514 - accuracy: 0.7655 - val_loss: 0.3559 - val_accuracy: 0.9320 - lr: 1.0000e-05\n",
            "Epoch 9/100\n",
            "359/361 [============================>.] - ETA: 0s - loss: 0.5498 - accuracy: 0.7655\n",
            "Epoch 9: val_accuracy did not improve from 0.93202\n",
            "361/361 [==============================] - 11s 29ms/step - loss: 0.5498 - accuracy: 0.7655 - val_loss: 0.3505 - val_accuracy: 0.9320 - lr: 1.0000e-05\n",
            "Epoch 10/100\n",
            "360/361 [============================>.] - ETA: 0s - loss: 0.5483 - accuracy: 0.7655\n",
            "Epoch 10: val_accuracy did not improve from 0.93202\n",
            "361/361 [==============================] - 10s 28ms/step - loss: 0.5483 - accuracy: 0.7655 - val_loss: 0.3508 - val_accuracy: 0.9320 - lr: 1.0000e-05\n",
            "Epoch 11/100\n",
            "361/361 [==============================] - ETA: 0s - loss: 0.5467 - accuracy: 0.7655\n",
            "Epoch 11: val_accuracy did not improve from 0.93202\n",
            "361/361 [==============================] - 11s 29ms/step - loss: 0.5467 - accuracy: 0.7655 - val_loss: 0.3505 - val_accuracy: 0.9320 - lr: 1.0000e-05\n",
            "Epoch 12/100\n",
            "360/361 [============================>.] - ETA: 0s - loss: 0.5451 - accuracy: 0.7656\n",
            "Epoch 12: val_accuracy did not improve from 0.93202\n",
            "361/361 [==============================] - 11s 30ms/step - loss: 0.5452 - accuracy: 0.7655 - val_loss: 0.3489 - val_accuracy: 0.9320 - lr: 1.0000e-05\n",
            "Epoch 13/100\n",
            "360/361 [============================>.] - ETA: 0s - loss: 0.5438 - accuracy: 0.7653\n",
            "Epoch 13: val_accuracy did not improve from 0.93202\n",
            "361/361 [==============================] - 11s 31ms/step - loss: 0.5436 - accuracy: 0.7655 - val_loss: 0.3455 - val_accuracy: 0.9320 - lr: 1.0000e-05\n",
            "Epoch 14/100\n",
            "361/361 [==============================] - ETA: 0s - loss: 0.5421 - accuracy: 0.7655\n",
            "Epoch 14: val_accuracy did not improve from 0.93202\n",
            "361/361 [==============================] - 11s 31ms/step - loss: 0.5421 - accuracy: 0.7655 - val_loss: 0.3474 - val_accuracy: 0.9320 - lr: 1.0000e-05\n",
            "Epoch 15/100\n",
            "359/361 [============================>.] - ETA: 0s - loss: 0.5402 - accuracy: 0.7657\n",
            "Epoch 15: val_accuracy did not improve from 0.93202\n",
            "361/361 [==============================] - 11s 31ms/step - loss: 0.5405 - accuracy: 0.7655 - val_loss: 0.3471 - val_accuracy: 0.9320 - lr: 1.0000e-05\n",
            "Epoch 16/100\n",
            "361/361 [==============================] - ETA: 0s - loss: 0.5388 - accuracy: 0.7655\n",
            "Epoch 16: val_accuracy did not improve from 0.93202\n",
            "361/361 [==============================] - 11s 30ms/step - loss: 0.5388 - accuracy: 0.7655 - val_loss: 0.3429 - val_accuracy: 0.9320 - lr: 1.0000e-05\n",
            "Epoch 17/100\n",
            "361/361 [==============================] - ETA: 0s - loss: 0.5371 - accuracy: 0.7655\n",
            "Epoch 17: val_accuracy did not improve from 0.93202\n",
            "361/361 [==============================] - 10s 29ms/step - loss: 0.5371 - accuracy: 0.7655 - val_loss: 0.3490 - val_accuracy: 0.9320 - lr: 1.0000e-05\n",
            "Epoch 18/100\n",
            "359/361 [============================>.] - ETA: 0s - loss: 0.5352 - accuracy: 0.7657\n",
            "Epoch 18: val_accuracy did not improve from 0.93202\n",
            "361/361 [==============================] - 11s 31ms/step - loss: 0.5354 - accuracy: 0.7655 - val_loss: 0.3424 - val_accuracy: 0.9320 - lr: 1.0000e-05\n",
            "Epoch 19/100\n",
            "361/361 [==============================] - ETA: 0s - loss: 0.5337 - accuracy: 0.7655\n",
            "Epoch 19: val_accuracy did not improve from 0.93202\n",
            "361/361 [==============================] - 10s 29ms/step - loss: 0.5337 - accuracy: 0.7655 - val_loss: 0.3453 - val_accuracy: 0.9320 - lr: 1.0000e-05\n",
            "Epoch 20/100\n",
            "360/361 [============================>.] - ETA: 0s - loss: 0.5318 - accuracy: 0.7655\n",
            "Epoch 20: val_accuracy did not improve from 0.93202\n",
            "361/361 [==============================] - 11s 30ms/step - loss: 0.5318 - accuracy: 0.7655 - val_loss: 0.3386 - val_accuracy: 0.9320 - lr: 1.0000e-05\n",
            "Epoch 21/100\n",
            "360/361 [============================>.] - ETA: 0s - loss: 0.5296 - accuracy: 0.7657\n",
            "Epoch 21: val_accuracy did not improve from 0.93202\n",
            "361/361 [==============================] - 10s 29ms/step - loss: 0.5299 - accuracy: 0.7655 - val_loss: 0.3424 - val_accuracy: 0.9320 - lr: 1.0000e-05\n",
            "Epoch 22/100\n",
            "360/361 [============================>.] - ETA: 0s - loss: 0.5279 - accuracy: 0.7654\n",
            "Epoch 22: val_accuracy did not improve from 0.93202\n",
            "361/361 [==============================] - 15s 40ms/step - loss: 0.5278 - accuracy: 0.7655 - val_loss: 0.3436 - val_accuracy: 0.9320 - lr: 1.0000e-05\n",
            "Epoch 23/100\n",
            "360/361 [============================>.] - ETA: 0s - loss: 0.5257 - accuracy: 0.7655\n",
            "Epoch 23: val_accuracy did not improve from 0.93202\n",
            "361/361 [==============================] - 11s 32ms/step - loss: 0.5257 - accuracy: 0.7655 - val_loss: 0.3396 - val_accuracy: 0.9320 - lr: 1.0000e-05\n",
            "Epoch 24/100\n",
            "361/361 [==============================] - ETA: 0s - loss: 0.5232 - accuracy: 0.7655\n",
            "Epoch 24: val_accuracy did not improve from 0.93202\n",
            "361/361 [==============================] - 11s 32ms/step - loss: 0.5232 - accuracy: 0.7655 - val_loss: 0.3356 - val_accuracy: 0.9320 - lr: 1.0000e-05\n",
            "Epoch 25/100\n",
            "361/361 [==============================] - ETA: 0s - loss: 0.5205 - accuracy: 0.7655\n",
            "Epoch 25: val_accuracy did not improve from 0.93202\n",
            "361/361 [==============================] - 11s 31ms/step - loss: 0.5205 - accuracy: 0.7655 - val_loss: 0.3378 - val_accuracy: 0.9320 - lr: 1.0000e-05\n",
            "Epoch 26/100\n",
            "360/361 [============================>.] - ETA: 0s - loss: 0.5174 - accuracy: 0.7655\n",
            "Epoch 26: val_accuracy did not improve from 0.93202\n",
            "361/361 [==============================] - 11s 31ms/step - loss: 0.5175 - accuracy: 0.7655 - val_loss: 0.3364 - val_accuracy: 0.9320 - lr: 1.0000e-05\n",
            "Epoch 27/100\n",
            "359/361 [============================>.] - ETA: 0s - loss: 0.5135 - accuracy: 0.7658\n",
            "Epoch 27: val_accuracy did not improve from 0.93202\n",
            "361/361 [==============================] - 11s 32ms/step - loss: 0.5138 - accuracy: 0.7655 - val_loss: 0.3332 - val_accuracy: 0.9320 - lr: 1.0000e-05\n",
            "Epoch 28/100\n",
            "360/361 [============================>.] - ETA: 0s - loss: 0.5095 - accuracy: 0.7655\n",
            "Epoch 28: val_accuracy did not improve from 0.93202\n",
            "361/361 [==============================] - 10s 29ms/step - loss: 0.5095 - accuracy: 0.7655 - val_loss: 0.3330 - val_accuracy: 0.9320 - lr: 1.0000e-05\n",
            "Epoch 29/100\n",
            "361/361 [==============================] - ETA: 0s - loss: 0.5044 - accuracy: 0.7655\n",
            "Epoch 29: val_accuracy did not improve from 0.93202\n",
            "361/361 [==============================] - 11s 31ms/step - loss: 0.5044 - accuracy: 0.7655 - val_loss: 0.3290 - val_accuracy: 0.9320 - lr: 1.0000e-05\n",
            "Epoch 30/100\n",
            "359/361 [============================>.] - ETA: 0s - loss: 0.4976 - accuracy: 0.7657\n",
            "Epoch 30: val_accuracy did not improve from 0.93202\n",
            "361/361 [==============================] - 11s 31ms/step - loss: 0.4978 - accuracy: 0.7654 - val_loss: 0.3236 - val_accuracy: 0.9320 - lr: 1.0000e-05\n",
            "Epoch 31/100\n",
            "360/361 [============================>.] - ETA: 0s - loss: 0.4895 - accuracy: 0.7643\n",
            "Epoch 31: val_accuracy did not improve from 0.93202\n",
            "361/361 [==============================] - 11s 32ms/step - loss: 0.4895 - accuracy: 0.7644 - val_loss: 0.3166 - val_accuracy: 0.9320 - lr: 1.0000e-05\n",
            "Epoch 32/100\n",
            "360/361 [============================>.] - ETA: 0s - loss: 0.4787 - accuracy: 0.7612\n",
            "Epoch 32: val_accuracy did not improve from 0.93202\n",
            "361/361 [==============================] - 11s 31ms/step - loss: 0.4788 - accuracy: 0.7611 - val_loss: 0.3148 - val_accuracy: 0.9320 - lr: 1.0000e-05\n",
            "Epoch 33/100\n",
            "359/361 [============================>.] - ETA: 0s - loss: 0.4657 - accuracy: 0.7648\n",
            "Epoch 33: val_accuracy did not improve from 0.93202\n",
            "361/361 [==============================] - 10s 28ms/step - loss: 0.4659 - accuracy: 0.7646 - val_loss: 0.2822 - val_accuracy: 0.9320 - lr: 1.0000e-05\n",
            "Epoch 34/100\n",
            "359/361 [============================>.] - ETA: 0s - loss: 0.4486 - accuracy: 0.7671\n",
            "Epoch 34: val_accuracy did not improve from 0.93202\n",
            "361/361 [==============================] - 11s 32ms/step - loss: 0.4487 - accuracy: 0.7670 - val_loss: 0.2704 - val_accuracy: 0.9240 - lr: 1.0000e-05\n",
            "Epoch 35/100\n",
            "361/361 [==============================] - ETA: 0s - loss: 0.4294 - accuracy: 0.7794\n",
            "Epoch 35: val_accuracy did not improve from 0.93202\n",
            "361/361 [==============================] - 11s 32ms/step - loss: 0.4294 - accuracy: 0.7794 - val_loss: 0.2713 - val_accuracy: 0.9178 - lr: 1.0000e-05\n",
            "Epoch 36/100\n",
            "360/361 [============================>.] - ETA: 0s - loss: 0.4084 - accuracy: 0.8089\n",
            "Epoch 36: val_accuracy did not improve from 0.93202\n",
            "361/361 [==============================] - 11s 29ms/step - loss: 0.4083 - accuracy: 0.8089 - val_loss: 0.2699 - val_accuracy: 0.9140 - lr: 1.0000e-05\n",
            "Epoch 37/100\n",
            "360/361 [============================>.] - ETA: 0s - loss: 0.3778 - accuracy: 0.8456\n",
            "Epoch 37: val_accuracy did not improve from 0.93202\n",
            "361/361 [==============================] - 11s 31ms/step - loss: 0.3779 - accuracy: 0.8454 - val_loss: 0.2783 - val_accuracy: 0.9018 - lr: 1.0000e-05\n",
            "Epoch 38/100\n",
            "359/361 [============================>.] - ETA: 0s - loss: 0.3367 - accuracy: 0.8789\n",
            "Epoch 38: val_accuracy did not improve from 0.93202\n",
            "361/361 [==============================] - 11s 32ms/step - loss: 0.3368 - accuracy: 0.8789 - val_loss: 0.2936 - val_accuracy: 0.8918 - lr: 1.0000e-05\n",
            "Epoch 39/100\n",
            "360/361 [============================>.] - ETA: 0s - loss: 0.3108 - accuracy: 0.8812\n",
            "Epoch 39: val_accuracy did not improve from 0.93202\n",
            "361/361 [==============================] - 12s 33ms/step - loss: 0.3106 - accuracy: 0.8813 - val_loss: 0.3018 - val_accuracy: 0.8439 - lr: 1.0000e-05\n",
            "Epoch 40/100\n",
            "361/361 [==============================] - ETA: 0s - loss: 0.2955 - accuracy: 0.8801\n",
            "Epoch 40: val_accuracy did not improve from 0.93202\n",
            "\n",
            "Epoch 40: ReduceLROnPlateau reducing learning rate to 7.999999797903002e-06.\n",
            "361/361 [==============================] - 11s 32ms/step - loss: 0.2955 - accuracy: 0.8801 - val_loss: 0.3066 - val_accuracy: 0.8387 - lr: 1.0000e-05\n",
            "Epoch 41/100\n",
            "361/361 [==============================] - ETA: 0s - loss: 0.2863 - accuracy: 0.8825\n",
            "Epoch 41: val_accuracy did not improve from 0.93202\n",
            "361/361 [==============================] - 12s 32ms/step - loss: 0.2863 - accuracy: 0.8825 - val_loss: 0.3115 - val_accuracy: 0.8665 - lr: 8.0000e-06\n",
            "Epoch 42/100\n",
            "361/361 [==============================] - ETA: 0s - loss: 0.2813 - accuracy: 0.8848\n",
            "Epoch 42: val_accuracy did not improve from 0.93202\n",
            "361/361 [==============================] - 12s 32ms/step - loss: 0.2813 - accuracy: 0.8848 - val_loss: 0.3122 - val_accuracy: 0.8665 - lr: 8.0000e-06\n",
            "Epoch 43/100\n",
            "359/361 [============================>.] - ETA: 0s - loss: 0.2768 - accuracy: 0.8864\n",
            "Epoch 43: val_accuracy did not improve from 0.93202\n",
            "361/361 [==============================] - 12s 32ms/step - loss: 0.2772 - accuracy: 0.8862 - val_loss: 0.3150 - val_accuracy: 0.8436 - lr: 8.0000e-06\n",
            "Epoch 44/100\n",
            "360/361 [============================>.] - ETA: 0s - loss: 0.2740 - accuracy: 0.8885\n",
            "Epoch 44: val_accuracy did not improve from 0.93202\n",
            "\n",
            "Epoch 44: ReduceLROnPlateau reducing learning rate to 6.399999983841554e-06.\n",
            "361/361 [==============================] - 11s 31ms/step - loss: 0.2739 - accuracy: 0.8886 - val_loss: 0.3145 - val_accuracy: 0.8325 - lr: 8.0000e-06\n",
            "Epoch 45/100\n",
            "360/361 [============================>.] - ETA: 0s - loss: 0.2716 - accuracy: 0.8862\n",
            "Epoch 45: val_accuracy did not improve from 0.93202\n",
            "361/361 [==============================] - 12s 32ms/step - loss: 0.2716 - accuracy: 0.8861 - val_loss: 0.3157 - val_accuracy: 0.8328 - lr: 6.4000e-06\n",
            "Epoch 46/100\n",
            "361/361 [==============================] - ETA: 0s - loss: 0.2695 - accuracy: 0.8873\n",
            "Epoch 46: val_accuracy did not improve from 0.93202\n",
            "Restoring model weights from the end of the best epoch: 36.\n",
            "361/361 [==============================] - 11s 30ms/step - loss: 0.2695 - accuracy: 0.8873 - val_loss: 0.3166 - val_accuracy: 0.8339 - lr: 6.4000e-06\n",
            "Epoch 46: early stopping\n"
          ]
        }
      ],
      "id": "P5NywVJxxg8x"
    },
    {
      "cell_type": "code",
      "source": [
        "# Plot training and validation accuracy\n",
        "plt.plot(history.history['accuracy'], label='Training Accuracy')\n",
        "plt.plot(history.history['val_accuracy'], label='Validation Accuracy')\n",
        "plt.xlabel('Epoch')\n",
        "plt.ylabel('Accuracy')\n",
        "plt.title('Training and Validation Accuracy')\n",
        "plt.legend()\n",
        "plt.show()"
      ],
      "metadata": {
        "colab": {
          "base_uri": "https://localhost:8080/",
          "height": 472
        },
        "outputId": "853045ba-cafb-47a7-b3bd-33295511200c",
        "id": "TaKkv6ffxg8x"
      },
      "execution_count": 701,
      "outputs": [
        {
          "output_type": "display_data",
          "data": {
            "text/plain": [
              "<Figure size 640x480 with 1 Axes>"
            ],
            "image/png": "[encoded data removed]"
          },
          "metadata": {}
        }
      ],
      "id": "TaKkv6ffxg8x"
    },
    {
      "cell_type": "code",
      "source": [
        "# Evaluate your model\n",
        "loss, accuracy = model.evaluate(X_test_sequences, y_test_avg_sequences)\n",
        "print(f'Test Loss: {loss}, Test Accuracy: {accuracy}')\n"
      ],
      "metadata": {
        "colab": {
          "base_uri": "https://localhost:8080/"
        },
        "outputId": "b13fe2b7-d642-43f0-e80a-03448c4b3f53",
        "id": "BDolu4W4xg8x"
      },
      "execution_count": 702,
      "outputs": [
        {
          "output_type": "stream",
          "name": "stdout",
          "text": [
            "112/112 [==============================] - 3s 29ms/step - loss: 0.2791 - accuracy: 0.8623\n",
            "Test Loss: 0.2790907919406891, Test Accuracy: 0.8623208999633789\n"
          ]
        }
      ],
      "id": "BDolu4W4xg8x"
    },
    {
      "cell_type": "markdown",
      "metadata": {
        "id": "8lhTKNNvxg8y"
      },
      "source": [
        "### Evaluation"
      ],
      "id": "8lhTKNNvxg8y"
    },
    {
      "cell_type": "markdown",
      "source": [
        "## 95 data"
      ],
      "metadata": {
        "id": "eCT2gN-gxg8y"
      },
      "id": "eCT2gN-gxg8y"
    },
    {
      "cell_type": "code",
      "source": [
        "# Data pre Processing\n",
        "# Load X and Y from desired file\n",
        "X_95 = df_95[features]\n",
        "y_95 = df_95['on_lift']\n",
        "\n",
        "# Impute missing values\n",
        "X_95_imputed = imputer.fit_transform(X_95)\n",
        "\n",
        "# Scale features\n",
        "X_95_scaled = scaler.fit_transform(X_95_imputed)\n",
        "\n",
        "num_95_features = X_95_scaled.shape[1]\n",
        "########## Scaling different features requires some thought. EG Lat, long vs alt #############"
      ],
      "metadata": {
        "id": "ZCrmiLUpxg8y"
      },
      "execution_count": 703,
      "outputs": [],
      "id": "ZCrmiLUpxg8y"
    },
    {
      "cell_type": "code",
      "source": [
        "# DataFrame shape (num_samples, num_features)\n",
        "X_95_sequences = create_sequences(pd.DataFrame(X_95_scaled), sequence_length)\n",
        "y_95_sequences = create_sequences(pd.DataFrame(y_95), sequence_length)\n",
        "\n",
        "# Print shape to verify\n",
        "print(\"Shape of X_95_sequences:\", X_95_sequences.shape)\n",
        "print(\"Shape of y_95_sequences:\", y_95_sequences.shape)"
      ],
      "metadata": {
        "colab": {
          "base_uri": "https://localhost:8080/"
        },
        "outputId": "86eff8e7-f73a-4214-eb1a-5ec367b4d1d5",
        "id": "TkesJQbsxg8y"
      },
      "execution_count": 704,
      "outputs": [
        {
          "output_type": "stream",
          "name": "stdout",
          "text": [
            "Shape of X_95_sequences: (5658, 60, 23)\n",
            "Shape of y_95_sequences: (5658, 60, 1)\n"
          ]
        }
      ],
      "id": "TkesJQbsxg8y"
    },
    {
      "cell_type": "code",
      "source": [
        "# Evaluate your model\n",
        "loss_95, accuracy_95 = model.evaluate(X_95_sequences, y_95_sequences)\n",
        "print(f'Test Loss_95: {loss_95}, Test Accuracy_95: {accuracy_95}')"
      ],
      "metadata": {
        "colab": {
          "base_uri": "https://localhost:8080/"
        },
        "outputId": "d454efa8-1a0b-4901-f127-08ad0295b2a2",
        "id": "jJQSSk8Exg8y"
      },
      "execution_count": 705,
      "outputs": [
        {
          "output_type": "stream",
          "name": "stdout",
          "text": [
            "177/177 [==============================] - 3s 16ms/step - loss: 0.4642 - accuracy: 0.7941\n",
            "Test Loss_95: 0.46418511867523193, Test Accuracy_95: 0.794093906879425\n"
          ]
        }
      ],
      "id": "jJQSSk8Exg8y"
    },
    {
      "cell_type": "markdown",
      "source": [
        "## 206 data"
      ],
      "metadata": {
        "id": "k_QO4RYTxg8y"
      },
      "id": "k_QO4RYTxg8y"
    },
    {
      "cell_type": "code",
      "source": [
        "# Data pre Processing\n",
        "# Load X and Y from desired file\n",
        "X_206 = df_206[features]\n",
        "y_206 = df_206['on_lift']\n",
        "\n",
        "# Impute missing values\n",
        "X_206_imputed = imputer.fit_transform(X_206)\n",
        "\n",
        "# Scale features\n",
        "X_206_scaled = scaler.fit_transform(X_206_imputed)\n",
        "\n",
        "num_206_features = X_206_scaled.shape[1]\n",
        "########## Scaling different features requires some thought. EG Lat, long vs alt #############"
      ],
      "metadata": {
        "id": "RQkYJVOcxg8y"
      },
      "execution_count": 706,
      "outputs": [],
      "id": "RQkYJVOcxg8y"
    },
    {
      "cell_type": "code",
      "source": [
        "# DataFrame shape (num_samples, num_features)\n",
        "X_206_sequences = create_sequences(pd.DataFrame(X_206_scaled), sequence_length)\n",
        "y_206_sequences = create_sequences(pd.DataFrame(y_206), sequence_length)\n",
        "\n",
        "# Print shape to verify\n",
        "print(\"Shape of X_206_sequences:\", X_206_sequences.shape)\n",
        "print(\"Shape of y_206_sequences:\", y_206_sequences.shape)"
      ],
      "metadata": {
        "colab": {
          "base_uri": "https://localhost:8080/"
        },
        "outputId": "8a1ecea8-4749-4bc9-80ba-01301732fa16",
        "id": "1Xn6Qc9qxg8y"
      },
      "execution_count": 707,
      "outputs": [
        {
          "output_type": "stream",
          "name": "stdout",
          "text": [
            "Shape of X_206_sequences: (12314, 60, 23)\n",
            "Shape of y_206_sequences: (12314, 60, 1)\n"
          ]
        }
      ],
      "id": "1Xn6Qc9qxg8y"
    },
    {
      "cell_type": "code",
      "source": [
        "# Evaluate your model\n",
        "loss_206, accuracy_206 = model.evaluate(X_206_sequences, y_206_sequences)\n",
        "print(f'Test Loss_206: {loss_206}, Test Accuracy_206: {accuracy_206}')"
      ],
      "metadata": {
        "colab": {
          "base_uri": "https://localhost:8080/"
        },
        "outputId": "f071a228-367d-476e-8cfd-5231ae9797db",
        "id": "7Wqb1QoFxg8z"
      },
      "execution_count": 708,
      "outputs": [
        {
          "output_type": "stream",
          "name": "stdout",
          "text": [
            "385/385 [==============================] - 7s 18ms/step - loss: 0.3256 - accuracy: 0.8270\n",
            "Test Loss_206: 0.32559117674827576, Test Accuracy_206: 0.8269855380058289\n"
          ]
        }
      ],
      "id": "7Wqb1QoFxg8z"
    },
    {
      "cell_type": "markdown",
      "source": [
        "## 310 data"
      ],
      "metadata": {
        "id": "aGm8q5hExg8z"
      },
      "id": "aGm8q5hExg8z"
    },
    {
      "cell_type": "code",
      "source": [
        "# Data pre Processing\n",
        "# Load X and Y from desired file\n",
        "X_310 = df_310[features]\n",
        "y_310 = df_310['on_lift']\n",
        "\n",
        "# Impute missing values\n",
        "X_310_imputed = imputer.fit_transform(X_310)\n",
        "\n",
        "# Scale features\n",
        "X_310_scaled = scaler.fit_transform(X_310_imputed)\n",
        "\n",
        "num_310_features = X_310_scaled.shape[1]\n",
        "########## Scaling different features requires some thought. EG Lat, long vs alt #############\n"
      ],
      "metadata": {
        "id": "0yq6IGv2xg8z"
      },
      "execution_count": 709,
      "outputs": [],
      "id": "0yq6IGv2xg8z"
    },
    {
      "cell_type": "code",
      "source": [
        "# DataFrame shape (num_samples, num_features)\n",
        "X_310_train_sequences = create_sequences(pd.DataFrame(X_310_scaled), sequence_length)\n",
        "\n",
        "y_310_train_sequences = create_sequences(pd.DataFrame(y_310), sequence_length)\n",
        "\n",
        "# Print shape to verify\n",
        "print(\"Shape of X_310_train_sequences:\", X_310_train_sequences.shape)\n",
        "\n",
        "print(\"Shape of y_310_train_sequences:\", y_310_train_sequences.shape)\n",
        "\n"
      ],
      "metadata": {
        "colab": {
          "base_uri": "https://localhost:8080/"
        },
        "outputId": "bac48b75-568c-4c13-c04a-325e65f7a605",
        "id": "koxjelKTxg8z"
      },
      "execution_count": 710,
      "outputs": [
        {
          "output_type": "stream",
          "name": "stdout",
          "text": [
            "Shape of X_310_train_sequences: (18518, 60, 23)\n",
            "Shape of y_310_train_sequences: (18518, 60, 1)\n"
          ]
        }
      ],
      "id": "koxjelKTxg8z"
    },
    {
      "cell_type": "code",
      "source": [
        "y_310_train_sequences = sequence_averaging(y_310_train_sequences)"
      ],
      "metadata": {
        "id": "n9Gi-6U9xg8z"
      },
      "execution_count": 711,
      "outputs": [],
      "id": "n9Gi-6U9xg8z"
    },
    {
      "cell_type": "code",
      "source": [
        "# Evaluate your model\n",
        "loss_310, accuracy_310 = model.evaluate(X_310_train_sequences, y_310_train_sequences)\n",
        "print(f'Test Loss_310: {loss_310}, Test Accuracy_310: {accuracy_310}')"
      ],
      "metadata": {
        "colab": {
          "base_uri": "https://localhost:8080/"
        },
        "outputId": "3412936c-95af-4ef6-be0e-ebf3e746adf1",
        "id": "3u_wmD0exg8z"
      },
      "execution_count": 712,
      "outputs": [
        {
          "output_type": "stream",
          "name": "stdout",
          "text": [
            "579/579 [==============================] - 5s 9ms/step - loss: 0.4910 - accuracy: 0.8075\n",
            "Test Loss_310: 0.49102693796157837, Test Accuracy_310: 0.807538628578186\n"
          ]
        }
      ],
      "id": "3u_wmD0exg8z"
    },
    {
      "cell_type": "code",
      "source": [],
      "metadata": {
        "id": "URYYurkLy4KZ"
      },
      "id": "URYYurkLy4KZ",
      "execution_count": 712,
      "outputs": []
    },
    {
      "cell_type": "code",
      "source": [],
      "metadata": {
        "id": "5it5zFG_5w9U"
      },
      "id": "5it5zFG_5w9U",
      "execution_count": null,
      "outputs": []
    }
  ],
  "metadata": {
    "kernelspec": {
      "display_name": "Python [conda env:consta_ml]",
      "language": "python",
      "name": "conda-env-consta_ml-py"
    },
    "language_info": {
      "codemirror_mode": {
        "name": "ipython",
        "version": 3
      },
      "file_extension": ".py",
      "mimetype": "text/x-python",
      "name": "python",
      "nbconvert_exporter": "python",
      "pygments_lexer": "ipython3",
      "version": "3.10.13"
    },
    "colab": {
      "provenance": []
    }
  },
  "nbformat": 4,
  "nbformat_minor": 5
}