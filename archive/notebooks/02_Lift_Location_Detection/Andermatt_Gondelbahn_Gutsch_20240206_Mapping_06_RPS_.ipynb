{
  "nbformat": 4,
  "nbformat_minor": 0,
  "metadata": {
    "colab": {
      "provenance": []
    },
    "kernelspec": {
      "name": "python3",
      "display_name": "Python 3"
    },
    "language_info": {
      "name": "python"
    }
  },
  "cells": [
    {
      "cell_type": "code",
      "execution_count": 22,
      "metadata": {
        "id": "9mW_Spn0uqX9",
        "colab": {
          "base_uri": "https://localhost:8080/"
        },
        "outputId": "fd955f67-48ef-4577-f905-c0ee6c7b93e4"
      },
      "outputs": [
        {
          "output_type": "stream",
          "name": "stdout",
          "text": [
            "Collecting gmplot\n",
            "  Downloading gmplot-1.4.1-py3-none-any.whl (164 kB)\n",
            "\u001b[?25l     \u001b[90m━━━━━━━━━━━━━━━━━━━━━━━━━━━━━━━━━━━━━━━━\u001b[0m \u001b[32m0.0/164.7 kB\u001b[0m \u001b[31m?\u001b[0m eta \u001b[36m-:--:--\u001b[0m\r\u001b[2K     \u001b[91m━━━━━━━━━━━━━━━━━━━━━━━━━━━━━\u001b[0m\u001b[91m╸\u001b[0m\u001b[90m━━━━━━━━━━\u001b[0m \u001b[32m122.9/164.7 kB\u001b[0m \u001b[31m3.5 MB/s\u001b[0m eta \u001b[36m0:00:01\u001b[0m\r\u001b[2K     \u001b[90m━━━━━━━━━━━━━━━━━━━━━━━━━━━━━━━━━━━━━━━━\u001b[0m \u001b[32m164.7/164.7 kB\u001b[0m \u001b[31m3.7 MB/s\u001b[0m eta \u001b[36m0:00:00\u001b[0m\n",
            "\u001b[?25hRequirement already satisfied: requests in /usr/local/lib/python3.10/dist-packages (from gmplot) (2.31.0)\n",
            "Requirement already satisfied: charset-normalizer<4,>=2 in /usr/local/lib/python3.10/dist-packages (from requests->gmplot) (3.3.2)\n",
            "Requirement already satisfied: idna<4,>=2.5 in /usr/local/lib/python3.10/dist-packages (from requests->gmplot) (3.6)\n",
            "Requirement already satisfied: urllib3<3,>=1.21.1 in /usr/local/lib/python3.10/dist-packages (from requests->gmplot) (2.0.7)\n",
            "Requirement already satisfied: certifi>=2017.4.17 in /usr/local/lib/python3.10/dist-packages (from requests->gmplot) (2024.2.2)\n",
            "Installing collected packages: gmplot\n",
            "Successfully installed gmplot-1.4.1\n"
          ]
        }
      ],
      "source": [
        "pip install gmplot\n"
      ]
    },
    {
      "cell_type": "code",
      "source": [
        "pip install cartopy"
      ],
      "metadata": {
        "colab": {
          "base_uri": "https://localhost:8080/"
        },
        "id": "A-QJc8Ii74_W",
        "outputId": "2380604e-2e6c-4a41-e935-7aa8dee833d8"
      },
      "execution_count": null,
      "outputs": [
        {
          "output_type": "stream",
          "name": "stdout",
          "text": [
            "Collecting cartopy\n",
            "  Downloading Cartopy-0.22.0-cp310-cp310-manylinux_2_17_x86_64.manylinux2014_x86_64.whl (11.8 MB)\n",
            "\u001b[2K     \u001b[90m━━━━━━━━━━━━━━━━━━━━━━━━━━━━━━━━━━━━━━━━\u001b[0m \u001b[32m11.8/11.8 MB\u001b[0m \u001b[31m17.6 MB/s\u001b[0m eta \u001b[36m0:00:00\u001b[0m\n",
            "\u001b[?25hRequirement already satisfied: numpy>=1.21 in /usr/local/lib/python3.10/dist-packages (from cartopy) (1.23.5)\n",
            "Requirement already satisfied: matplotlib>=3.4 in /usr/local/lib/python3.10/dist-packages (from cartopy) (3.7.1)\n",
            "Requirement already satisfied: shapely>=1.7 in /usr/local/lib/python3.10/dist-packages (from cartopy) (2.0.2)\n",
            "Requirement already satisfied: packaging>=20 in /usr/local/lib/python3.10/dist-packages (from cartopy) (23.2)\n",
            "Requirement already satisfied: pyshp>=2.1 in /usr/local/lib/python3.10/dist-packages (from cartopy) (2.3.1)\n",
            "Requirement already satisfied: pyproj>=3.1.0 in /usr/local/lib/python3.10/dist-packages (from cartopy) (3.6.1)\n",
            "Requirement already satisfied: contourpy>=1.0.1 in /usr/local/lib/python3.10/dist-packages (from matplotlib>=3.4->cartopy) (1.2.0)\n",
            "Requirement already satisfied: cycler>=0.10 in /usr/local/lib/python3.10/dist-packages (from matplotlib>=3.4->cartopy) (0.12.1)\n",
            "Requirement already satisfied: fonttools>=4.22.0 in /usr/local/lib/python3.10/dist-packages (from matplotlib>=3.4->cartopy) (4.47.2)\n",
            "Requirement already satisfied: kiwisolver>=1.0.1 in /usr/local/lib/python3.10/dist-packages (from matplotlib>=3.4->cartopy) (1.4.5)\n",
            "Requirement already satisfied: pillow>=6.2.0 in /usr/local/lib/python3.10/dist-packages (from matplotlib>=3.4->cartopy) (9.4.0)\n",
            "Requirement already satisfied: pyparsing>=2.3.1 in /usr/local/lib/python3.10/dist-packages (from matplotlib>=3.4->cartopy) (3.1.1)\n",
            "Requirement already satisfied: python-dateutil>=2.7 in /usr/local/lib/python3.10/dist-packages (from matplotlib>=3.4->cartopy) (2.8.2)\n",
            "Requirement already satisfied: certifi in /usr/local/lib/python3.10/dist-packages (from pyproj>=3.1.0->cartopy) (2024.2.2)\n",
            "Requirement already satisfied: six>=1.5 in /usr/local/lib/python3.10/dist-packages (from python-dateutil>=2.7->matplotlib>=3.4->cartopy) (1.16.0)\n"
          ]
        }
      ]
    },
    {
      "cell_type": "code",
      "source": [
        "pip install basemap"
      ],
      "metadata": {
        "id": "Sl5fWlAo8Xgc"
      },
      "execution_count": null,
      "outputs": []
    },
    {
      "cell_type": "code",
      "source": [
        "import pandas as pd"
      ],
      "metadata": {
        "id": "yKn4LlQEyePc"
      },
      "execution_count": null,
      "outputs": []
    },
    {
      "cell_type": "code",
      "source": [
        "file_135='/content/df_135_labeled_on_lift.csv'\n",
        "df_135=pd.read_csv(file_135)"
      ],
      "metadata": {
        "id": "qZljeUqPBoLd"
      },
      "execution_count": null,
      "outputs": []
    },
    {
      "cell_type": "code",
      "source": [],
      "metadata": {
        "id": "mxNUc1lk81ka"
      },
      "execution_count": null,
      "outputs": []
    },
    {
      "cell_type": "code",
      "source": [
        "df_135.columns"
      ],
      "metadata": {
        "id": "BZuirRnbvT5i"
      },
      "execution_count": null,
      "outputs": []
    },
    {
      "cell_type": "code",
      "source": [
        "df_135.info()"
      ],
      "metadata": {
        "id": "C6hl3Lh02wdD"
      },
      "execution_count": null,
      "outputs": []
    },
    {
      "cell_type": "code",
      "source": [
        "df_135['ActivityConfidence'].value_counts"
      ],
      "metadata": {
        "id": "3IPNAe8s26h7"
      },
      "execution_count": null,
      "outputs": []
    },
    {
      "cell_type": "code",
      "source": [
        "df_135['ActivityConfidence'].info()"
      ],
      "metadata": {
        "id": "wPV2dy-E3WVV"
      },
      "execution_count": null,
      "outputs": []
    },
    {
      "cell_type": "code",
      "source": [
        "df_135['ActivityConfidence'].describe()"
      ],
      "metadata": {
        "id": "QsQ_2UIs45vB"
      },
      "execution_count": null,
      "outputs": []
    },
    {
      "cell_type": "code",
      "source": [
        "import matplotlib.pyplot as plt\n",
        "\n",
        "plt.hist(df_135['ActivityConfidence'], bins=20)\n",
        "plt.xlabel('Activity Confidence')\n",
        "plt.ylabel('Frequency')\n",
        "plt.title('Histogram of Activity Confidence')\n",
        "plt.show()"
      ],
      "metadata": {
        "id": "qo-UET__5_Rn"
      },
      "execution_count": null,
      "outputs": []
    },
    {
      "cell_type": "code",
      "source": [
        "df_135['ActivityType'].describe()"
      ],
      "metadata": {
        "id": "uwjnX9Klveyq"
      },
      "execution_count": null,
      "outputs": []
    },
    {
      "cell_type": "code",
      "source": [
        "df_135['ActivityType'].value_counts()"
      ],
      "metadata": {
        "id": "jI7ypx5Tvr-D"
      },
      "execution_count": null,
      "outputs": []
    },
    {
      "cell_type": "code",
      "source": [
        "import matplotlib.pyplot as plt\n",
        "\n",
        "plt.hist(df_135['ActivityType'], bins=20)\n",
        "plt.xlabel('ActivityType')\n",
        "plt.ylabel('Frequency')\n",
        "plt.title('Histogram of ActivityType')\n",
        "plt.show()"
      ],
      "metadata": {
        "id": "RFBMnNis6iam"
      },
      "execution_count": null,
      "outputs": []
    },
    {
      "cell_type": "code",
      "source": [
        "import matplotlib.pyplot as plt\n",
        "\n",
        "# Plot data points with Unknown activity type\n",
        "unknown_data = df_135[df_135['ActivityType'] == 'Unknown']\n",
        "plt.scatter(unknown_data['Long'], unknown_data['Lat'], c='red', label='Unknown')\n",
        "\n",
        "# Plot data points with other activity types\n",
        "known_data = df_135[df_135['ActivityType'] != 'Unknown']\n",
        "plt.scatter(known_data['Long'], known_data['Lat'], c='blue', label='Known')\n",
        "\n",
        "plt.xlabel('Longitude')\n",
        "plt.ylabel('Latitude')\n",
        "plt.title('GPS Data Points')\n",
        "plt.legend()\n",
        "plt.show()"
      ],
      "metadata": {
        "id": "8es4GCVymZ_5"
      },
      "execution_count": null,
      "outputs": []
    },
    {
      "cell_type": "code",
      "source": [
        "pip install folium"
      ],
      "metadata": {
        "id": "gW4iNubDzFRq"
      },
      "execution_count": null,
      "outputs": []
    },
    {
      "cell_type": "code",
      "source": [],
      "metadata": {
        "id": "7PMVB_uE61rT"
      },
      "execution_count": null,
      "outputs": []
    },
    {
      "cell_type": "code",
      "source": [
        "file_AGG='/content/Andermatt_Gondelbahn_Gutsch-2024-02-04_11-58-32.csv'\n",
        "df_AGG=pd.read_csv(file_AGG)"
      ],
      "metadata": {
        "id": "UI9XfkYV7BVc"
      },
      "execution_count": null,
      "outputs": []
    },
    {
      "cell_type": "code",
      "source": [
        "df_AGG.columns\n"
      ],
      "metadata": {
        "id": "ozqXylQ3YHXl"
      },
      "execution_count": null,
      "outputs": []
    },
    {
      "cell_type": "code",
      "source": [
        "df_AGG.info()"
      ],
      "metadata": {
        "id": "9SiSCYb8Ypha"
      },
      "execution_count": null,
      "outputs": []
    },
    {
      "cell_type": "code",
      "source": [
        "import plotly.express as px\n",
        "# Create the scatter plot using Plotly Express\n",
        "fig = px.scatter(df_AGG,\n",
        "                 x=df_AGG['Timestamp'],\n",
        "                 y=df_AGG['Alt(m)'])\n",
        "\n",
        "# Update the layout with title and axis labels\n",
        "fig.update_layout(\n",
        "        title='Altitude over Time',\n",
        "        xaxis_title='Timestamp',\n",
        "        yaxis_title='Altitude (m)',\n",
        "        coloraxis_colorbar=dict(title='Cluster Label')\n",
        "    )\n",
        "\n",
        "# Show the Plotly figure\n",
        "fig.show()"
      ],
      "metadata": {
        "id": "qC0rcgt0cEmY"
      },
      "execution_count": null,
      "outputs": []
    },
    {
      "cell_type": "code",
      "source": [
        "#Add 'on_lift' column to df and set all values to 0\n",
        "df_AGG['on_lift'] = 0\n",
        "\n",
        "#Manually noted timestamps for lift rides\n",
        "lift_rides = [\n",
        "    ('2024-02-04 11:58:36', '2024-02-04 12:01:59'),\n",
        "    ('2024-02-04 12:03:29', '2024-02-04 12:10:11'),\n",
        "    ('2024-02-04 12:54:05', '2024-02-04 13:01:11'),\n",
        "    ('2024-02-04 13:27:37', '2024-02-04 13:30:13'),\n",
        "    ('2024-02-04 13:50:25', '2024-02-04 13:54:09'),\n",
        "    ('2024-02-04 14:04:31', '2024-02-04 14:10:44'),\n",
        "    ('2024-02-04 14:40:18', '2024-02-04 14:43:41'),\n",
        "    ('2024-02-04 15:39:07', '2024-02-04 15:43:41'),\n",
        "]\n",
        "df_AGG['Timestamp'] = pd.to_datetime(df_AGG['Timestamp'])\n",
        "#Update 'on_lift' column with lift_rides list\n",
        "for start, end in lift_rides:\n",
        "    start_time = pd.to_datetime(start)\n",
        "    end_time = pd.to_datetime(end)\n",
        "    df_AGG.loc[(df_AGG['Timestamp'] >= start_time) & (df_AGG['Timestamp'] <= end_time), 'on_lift'] = 1"
      ],
      "metadata": {
        "id": "H6FjBq1ScdT3"
      },
      "execution_count": null,
      "outputs": []
    },
    {
      "cell_type": "code",
      "source": [
        "#def plot_results()\n",
        "    # Plot for Altitude over Time, colored by 'on_lift' status\n",
        "import matplotlib.pyplot as plt\n",
        "plt.figure(figsize=(10, 5))\n",
        "\n",
        "    # Plot points where 'on_lift' is 1 with one color\n",
        "plt.scatter(df_AGG.loc[df_AGG['on_lift'] == 1, 'Timestamp'],\n",
        "                df_AGG.loc[df_AGG['on_lift'] == 1, 'Alt(m)'],\n",
        "                c='red',\n",
        "                label='On the lift',\n",
        "                marker='o')\n",
        "\n",
        "    # Plot points where 'on_lift' is 0 with another color\n",
        "plt.scatter(df_AGG.loc[df_AGG['on_lift'] == 0, 'Timestamp'],\n",
        "                df_AGG.loc[df_AGG['on_lift'] == 0, 'Alt(m)'],\n",
        "                c='blue',\n",
        "                label='Not on the lift',\n",
        "                marker='o')\n",
        "\n",
        "plt.title('Andermatt_Gondelbahn_Gutsch')\n",
        "plt.xlabel('Timestamp')\n",
        "plt.ylabel('Altitude (m)')\n",
        "plt.legend()\n",
        "plt.show()"
      ],
      "metadata": {
        "id": "hbJPeOsydMYF"
      },
      "execution_count": null,
      "outputs": []
    },
    {
      "cell_type": "code",
      "source": [],
      "metadata": {
        "id": "raWR2VS1dMtI"
      },
      "execution_count": null,
      "outputs": []
    },
    {
      "cell_type": "code",
      "source": [
        "import folium\n",
        "\n",
        "def generate_map(df):\n",
        "    # Create a map centered on the mean latitude and longitude\n",
        "    map_center = [df['Lat'].mean(), df['Long'].mean()]\n",
        "    mymap = folium.Map(location=map_center, zoom_start=10)\n",
        "\n",
        "    # Plot data points with on_lift type\n",
        "    on_lift = df[df['on_lift'] == 0]\n",
        "    for _, row in on_lift.iterrows():\n",
        "        folium.CircleMarker(location=[row['Lat'], row['Long']], radius=5, color='red', fill=True, fill_color='red', tooltip=str(row['Timestamp'])).add_to(mymap)\n",
        "\n",
        "    # Plot data points with not_on_lift  types\n",
        "    not_on_lift = df[df['on_lift'] != 0]\n",
        "    for _, row in not_on_lift.iterrows():\n",
        "        folium.CircleMarker(location=[row['Lat'], row['Long']], radius=5, color='blue', fill=True, fill_color='blue', tooltip=str(row['Timestamp'])).add_to(mymap)\n",
        "\n",
        "    # Return the map object\n",
        "    return mymap\n",
        "\n",
        "# Call the function with your DataFrame\n",
        "mymap = generate_map(df_AGG)\n",
        "mymap"
      ],
      "metadata": {
        "id": "PnEoKejz7XHp"
      },
      "execution_count": null,
      "outputs": []
    },
    {
      "cell_type": "code",
      "source": [
        "import folium\n",
        "from folium import plugins\n",
        "\n",
        "# Create a map centered on the mean latitude and longitude\n",
        "map_center = [df_135['Lat'].mean(), df_135['Long'].mean()]\n",
        "mymap = folium.Map(location=map_center, zoom_start=10)\n",
        "\n",
        "# Plot data points with on_lift  type\n",
        "on_lift = df_135[df_135['on_lift'] == 0]\n",
        "for _, row in on_lift.iterrows():\n",
        "    folium.CircleMarker(location=[row['Lat'], row['Long']], radius=5, color='red', fill=True, fill_color='red').add_to(mymap)\n",
        "\n",
        "# Plot data points with not_on_lift types\n",
        "not_on_lift = df_135[df_135['on_lift'] == 1]\n",
        "for _, row in not_on_lift.iterrows():\n",
        "    folium.CircleMarker(location=[row['Lat'], row['Long']], radius=5, color='blue', fill=True, fill_color='blue').add_to(mymap)\n",
        "\n",
        "# Display the map in the notebook\n",
        "mymap"
      ],
      "metadata": {
        "id": "zKXeORnt77rl"
      },
      "execution_count": null,
      "outputs": []
    },
    {
      "cell_type": "code",
      "source": [
        "import folium\n",
        "from folium import plugins\n",
        "\n",
        "# Create a map centered on the mean latitude and longitude\n",
        "map_center = [df_135['Lat'].mean(), df_135['Long'].mean()]\n",
        "mymap = folium.Map(location=map_center, zoom_start=10)\n",
        "\n",
        "# Plot data points with on_lift type\n",
        "on_lift = df_135[df_135['on_lift'] == 0]\n",
        "for _, row in on_lift.iterrows():\n",
        "    folium.CircleMarker(location=[row['Lat'], row['Long']], radius=5, color='red', fill=True, fill_color='red', tooltip=str(row['Timestamp'])).add_to(mymap)\n",
        "\n",
        "# Plot data points with not on_lift types\n",
        "not_on_lift = df_135[df_135['on_lift'] != 0]\n",
        "for _, row in not_on_lift.iterrows():\n",
        "    folium.CircleMarker(location=[row['Lat'], row['Long']], radius=2, color='blue', fill=True, fill_color='blue', tooltip=str(row['Timestamp'])).add_to(mymap)\n",
        "\n",
        "# Display the map in the notebook\n",
        "mymap"
      ],
      "metadata": {
        "id": "i28BhoXwFBnh"
      },
      "execution_count": null,
      "outputs": []
    },
    {
      "cell_type": "code",
      "source": [
        "file_166='/content/df_166m_labeled_on_lift.csv.csv'\n",
        "df_166=pd.read_csv(file_166)"
      ],
      "metadata": {
        "id": "TVCxeWjH86LX"
      },
      "execution_count": null,
      "outputs": []
    },
    {
      "cell_type": "code",
      "source": [
        "import matplotlib.pyplot as plt\n",
        "\n",
        "# Plot data points with Unknown activity type\n",
        "unknown_data = df_166[df_166['ActivityType'] == 'Unknown']\n",
        "plt.scatter(unknown_data['Long'], unknown_data['Lat'], c='red', label='Unknown')\n",
        "\n",
        "# Plot data points with other activity types\n",
        "known_data = df_166[df_166['ActivityType'] != 'Unknown']\n",
        "plt.scatter(known_data['Long'], known_data['Lat'], c='blue', label='Known')\n",
        "\n",
        "plt.xlabel('Longitude')\n",
        "plt.ylabel('Latitude')\n",
        "plt.title('GPS Data Points')\n",
        "plt.legend()\n",
        "plt.show()"
      ],
      "metadata": {
        "id": "EASlHpSx9YK-"
      },
      "execution_count": null,
      "outputs": []
    },
    {
      "cell_type": "code",
      "source": [
        "import folium\n",
        "from folium import plugins\n",
        "\n",
        "# Create a map centered on the mean latitude and longitude\n",
        "map_center = [df_166['Lat'].mean(), df_166['Long'].mean()]\n",
        "mymap = folium.Map(location=map_center, zoom_start=10)\n",
        "\n",
        "# Plot data points with on_lift type\n",
        "on_lift = df_166[df_166['on_lift'] == 0]\n",
        "for _, row in on_lift.iterrows():\n",
        "    folium.CircleMarker(location=[row['Lat'], row['Long']], radius=5, color='red', fill=True, fill_color='red').add_to(mymap)\n",
        "\n",
        "# Plot data points with not_on_lift types\n",
        "not_on_lift = df_166[df_166['on_lift'] != 0]\n",
        "for _, row in not_on_lift.iterrows():\n",
        "    folium.CircleMarker(location=[row['Lat'], row['Long']], radius=5, color='blue', fill=True, fill_color='blue').add_to(mymap)\n",
        "\n",
        "# Display the map in the notebook\n",
        "mymap"
      ],
      "metadata": {
        "id": "t6vdX-QW9ksQ"
      },
      "execution_count": null,
      "outputs": []
    },
    {
      "cell_type": "code",
      "source": [
        "import folium\n",
        "\n",
        "def generate_map(df):\n",
        "    # Create a map centered on the mean latitude and longitude\n",
        "    map_center = [df['Lat'].mean(), df['Long'].mean()]\n",
        "    mymap = folium.Map(location=map_center, zoom_start=10)\n",
        "\n",
        "    # Plot data points with on_lift type\n",
        "    on_lift = df[df['on_lift'] == 0]\n",
        "    for _, row in on_lift.iterrows():\n",
        "        folium.CircleMarker(location=[row['Lat'], row['Long']], radius=5, color='red', fill=True, fill_color='red', tooltip=str(row['Timestamp'])).add_to(mymap)\n",
        "\n",
        "    # Plot data points with not_on_lift  types\n",
        "    not_on_lift = df[df['on_lift'] != 0]\n",
        "    for _, row in not_on_lift.iterrows():\n",
        "        folium.CircleMarker(location=[row['Lat'], row['Long']], radius=5, color='blue', fill=True, fill_color='blue', tooltip=str(row['Timestamp'])).add_to(mymap)\n",
        "\n",
        "    # Return the map object\n",
        "    return mymap\n",
        "\n",
        "# Call the function with your DataFrame\n",
        "mymap = generate_map(df_135)\n",
        "mymap"
      ],
      "metadata": {
        "id": "LNYZnkDaEczh"
      },
      "execution_count": null,
      "outputs": []
    },
    {
      "cell_type": "code",
      "source": [
        "import folium\n",
        "\n",
        "def generate_map(df):\n",
        "    # Create a map centered on the mean latitude and longitude\n",
        "    map_center = df['Lat'].mean(), df['Long'].mean()\n",
        "    mymap = folium.Map(location=map_center, zoom_start=10)\n",
        "\n",
        "    # Plot data points with on_lift type\n",
        "    on_lift = df[df['on_lift'] == 0]\n",
        "    for _, row in on_lift.iterrows():\n",
        "        folium.CircleMarker(location=[row['Lat'], row['Long']], radius=8, color='red', fill=True, fill_color='red', tooltip=str(row['Timestamp'])).add_to(mymap)\n",
        "\n",
        "    # Plot data points with not_on_lift  types\n",
        "    not_on_lift = df[df['on_lift'] != 0]\n",
        "    for _, row in not_on_lift.iterrows():\n",
        "        folium.CircleMarker(location=[row['Lat'], row['Long']], radius=4, color='blue', fill=True, fill_color='blue', tooltip=str(row['Timestamp'])).add_to(mymap)\n",
        "\n",
        "    # Return the map object\n",
        "    return mymap\n",
        "\n",
        "# Call the function with your DataFrame\n",
        "mymap = generate_map(df_135)\n",
        "mymap"
      ],
      "metadata": {
        "id": "uqCrXQepT4lY"
      },
      "execution_count": null,
      "outputs": []
    },
    {
      "cell_type": "code",
      "source": [
        "file_path='/content/v5_20240203_091405_135m.csv'\n",
        "df_135_csv=pd.read_csv(file_path)"
      ],
      "metadata": {
        "id": "tYozfzFdU5lX"
      },
      "execution_count": null,
      "outputs": []
    },
    {
      "cell_type": "code",
      "source": [
        "import folium\n",
        "\n",
        "def generate_map(df):\n",
        "    # Create a map centered on the mean latitude and longitude\n",
        "    map_center = df['Lat'].mean(), df['Long'].mean()\n",
        "    mymap = folium.Map(location=map_center, zoom_start=10)\n",
        "\n",
        "    # Plot data points with on_lift type\n",
        "    on_lift = df[df['on_lift'] == 0]\n",
        "    for _, row in on_lift.iterrows():\n",
        "        folium.CircleMarker(location=[row['Lat'], row['Long']], radius=8, color='red', fill=True, fill_color='red', tooltip=str(row['Timestamp'])).add_to(mymap)\n",
        "\n",
        "    # Plot data points with not_on_lift  types\n",
        "    not_on_lift = df[df['on_lift'] != 0]\n",
        "    for _, row in not_on_lift.iterrows():\n",
        "        folium.CircleMarker(location=[row['Lat'], row['Long']], radius=4, color='blue', fill=True, fill_color='blue', tooltip=str(row['Timestamp'])).add_to(mymap)\n",
        "\n",
        "    # Return the map object\n",
        "    return mymap\n",
        "\n",
        "# Call the function with your DataFrame\n",
        "mymap = generate_map(df_135_csv)\n",
        "mymap"
      ],
      "metadata": {
        "id": "eTvyqGVWUtYv"
      },
      "execution_count": null,
      "outputs": []
    },
    {
      "cell_type": "code",
      "source": [
        "df_135.columns\n"
      ],
      "metadata": {
        "id": "NVxsImRuRzQC"
      },
      "execution_count": null,
      "outputs": []
    },
    {
      "cell_type": "code",
      "source": [],
      "metadata": {
        "id": "llp7KydzLytJ"
      },
      "execution_count": null,
      "outputs": []
    },
    {
      "cell_type": "code",
      "source": [
        "import folium\n",
        "\n",
        "def generate_map(df, predictions=None):\n",
        "    # Create a map centered on the mean latitude and longitude\n",
        "    map_center = [df['Lat'].mean(), df['Long'].mean()]\n",
        "    mymap = folium.Map(location=map_center, zoom_start=10)\n",
        "\n",
        "    # Plot data points with on_lift type\n",
        "    on_lift = df[df['on_lift'] == 0]\n",
        "    for _, row in on_lift.iterrows():\n",
        "        tooltip = str(row['Timestamp'])\n",
        "        if predictions is not None and row['Timestamp'] in predictions:\n",
        "            tooltip += f\", Prediction: {predictions[row['Timestamp']]}\"\n",
        "        folium.CircleMarker(location=[row['Lat'], row['Long']], radius=5, color='red', fill=True, fill_color='red', tooltip=tooltip).add_to(mymap)\n",
        "\n",
        "    # Plot data points with not_on_lift types\n",
        "    not_on_lift = df[df['on_lift'] != 0]\n",
        "    for _, row in not_on_lift.iterrows():\n",
        "        tooltip = str(row['Timestamp'])\n",
        "        if predictions is not None and row['Timestamp'] in predictions:\n",
        "            tooltip += f\", Prediction: {predictions[row['Timestamp']]}\"\n",
        "        folium.CircleMarker(location=[row['Lat'], row['Long']], radius=5, color='blue', fill=True, fill_color='blue', tooltip=tooltip).add_to(mymap)\n",
        "\n",
        "    # Return the map object\n",
        "    return mymap\n",
        "\n",
        "# Define predictions dictionary\n",
        "predictions = {}\n",
        "\n",
        "# Iterate over the DataFrame and extract unique identifiers\n",
        "for index, row in df_135.iterrows():\n",
        "    # Assuming 'Timestamp' is the column name containing unique identifiers\n",
        "    unique_id = row['Timestamp']\n",
        "\n",
        "    # Add the unique ID to the predictions dictionary with a placeholder prediction\n",
        "    predictions[unique_id] = 'Placeholder_Prediction'\n",
        "\n",
        "# Call the generate_map function with your DataFrame and predictions\n",
        "mymap = generate_map(df_135, predictions)\n",
        "\n",
        "# Display the map\n",
        "mymap"
      ],
      "metadata": {
        "id": "5Zu4Hv1tTIgh"
      },
      "execution_count": null,
      "outputs": []
    },
    {
      "cell_type": "code",
      "source": [
        "import gmplot\n",
        "\n",
        "# Initialize the Google Maps plot centered at the mean latitude and longitude\n",
        "gmap = gmplot.GoogleMapPlotter(df_135['Lat'].mean(), df_135['Long'].mean(), 10)\n",
        "\n",
        "# Plot data points with Unknown activity type\n",
        "unknown_data = df_135[df_135['ActivityType'] == 'Unknown']\n",
        "gmap.scatter(unknown_data['Lat'], unknown_data['Long'], 'red', size=40, marker=False)\n",
        "\n",
        "# Plot data points with other activity types\n",
        "known_data = df_135[df_135['ActivityType'] != 'Unknown']\n",
        "gmap.scatter(known_data['Lat'], known_data['Long'], 'blue', size=40, marker=False)\n",
        "\n",
        "# Draw the map to an HTML file\n",
        "gmap.draw(\"map.html\")"
      ],
      "metadata": {
        "id": "2jiRcMSlxsTb"
      },
      "execution_count": null,
      "outputs": []
    },
    {
      "cell_type": "code",
      "source": [
        "gmap"
      ],
      "metadata": {
        "id": "jY1gOFRZ56t0"
      },
      "execution_count": null,
      "outputs": []
    },
    {
      "cell_type": "code",
      "source": [],
      "metadata": {
        "id": "1SBR_nTT6GsC"
      },
      "execution_count": null,
      "outputs": []
    },
    {
      "cell_type": "code",
      "source": [
        "import webbrowser\n",
        "\n",
        "# Specify the path to the HTML file\n",
        "html_file_path = \"map.html\"\n",
        "\n",
        "# Open the HTML file in the default web browser\n",
        "webbrowser.open(html_file_path)"
      ],
      "metadata": {
        "id": "uu_ftlbBxu-v"
      },
      "execution_count": null,
      "outputs": []
    },
    {
      "cell_type": "code",
      "source": [
        "\n",
        "\n",
        "import webbrowser\n",
        "\n",
        "# Specify the path to the HTML file\n",
        "html_file_path = \"map.html\"\n",
        "\n",
        "# Open the HTML file in the default web browser\n",
        "success = webbrowser.open(html_file_path)\n",
        "\n",
        "if success:\n",
        "    print(\"Web browser opened successfully.\")\n",
        "else:\n",
        "    print(\"Failed to open web browser.\")"
      ],
      "metadata": {
        "id": "XDwOOwvOyLQm"
      },
      "execution_count": null,
      "outputs": []
    },
    {
      "cell_type": "code",
      "source": [
        "from IPython.display import IFrame\n",
        "\n",
        "# Specify the path to the HTML file generated by Folium\n",
        "html_file_path = \"map.html\"\n",
        "\n",
        "# Display the HTML file in the notebook\n",
        "IFrame(src=html_file_path, width=700, height=600)"
      ],
      "metadata": {
        "id": "ThpDBQ-SykMc"
      },
      "execution_count": null,
      "outputs": []
    },
    {
      "cell_type": "code",
      "source": [],
      "metadata": {
        "id": "i_kDsq1V0GKD"
      },
      "execution_count": null,
      "outputs": []
    },
    {
      "cell_type": "code",
      "source": [],
      "metadata": {
        "id": "srphln5x0MzT"
      },
      "execution_count": null,
      "outputs": []
    },
    {
      "cell_type": "code",
      "source": [],
      "metadata": {
        "id": "0PZmpUyz3enN"
      },
      "execution_count": null,
      "outputs": []
    },
    {
      "cell_type": "code",
      "source": [],
      "metadata": {
        "id": "HR2u9syf4r8k"
      },
      "execution_count": null,
      "outputs": []
    },
    {
      "cell_type": "code",
      "source": [],
      "metadata": {
        "id": "GledFy_S5raU"
      },
      "execution_count": null,
      "outputs": []
    },
    {
      "cell_type": "code",
      "source": [],
      "metadata": {
        "id": "AP1whAJ15RwT"
      },
      "execution_count": null,
      "outputs": []
    },
    {
      "cell_type": "code",
      "source": [
        "# Convert 'ActivityConfidence' column to float, ignoring errors\n",
        "#df_135['ActivityConfidence'] = pd.to_numeric(df_135['ActivityConfidence'], errors='coerce')"
      ],
      "metadata": {
        "id": "5xXGVUy230Ly"
      },
      "execution_count": null,
      "outputs": []
    },
    {
      "cell_type": "code",
      "source": [
        "#df_135.info()"
      ],
      "metadata": {
        "id": "qxo3sD9y38Zx"
      },
      "execution_count": null,
      "outputs": []
    },
    {
      "cell_type": "code",
      "source": [
        "#df_135['ActivityConfidence'].value_counts"
      ],
      "metadata": {
        "id": "tCckNNKH4KIp"
      },
      "execution_count": null,
      "outputs": []
    },
    {
      "cell_type": "code",
      "source": [
        "# Convert 'ActivityConfidence' column to float, replacing NaN with 0\n",
        "#df_135['ActivityConfidence'] = pd.to_numeric(df_135['ActivityConfidence'], errors='coerce').fillna(0)"
      ],
      "metadata": {
        "id": "DZcZQeAg4a25"
      },
      "execution_count": null,
      "outputs": []
    },
    {
      "cell_type": "code",
      "source": [
        "df_135['ActivityConfidence'].value_counts"
      ],
      "metadata": {
        "id": "ousbHgaF4hWQ"
      },
      "execution_count": null,
      "outputs": []
    },
    {
      "cell_type": "code",
      "source": [
        "#df_135 = df_135.drop(columns=['ActivityConfidence'])"
      ],
      "metadata": {
        "id": "OOp7ds1_7gN_"
      },
      "execution_count": null,
      "outputs": []
    },
    {
      "cell_type": "code",
      "source": [
        "from sklearn.ensemble import RandomForestClassifier\n",
        "\n",
        "clf = RandomForestClassifier()"
      ],
      "metadata": {
        "id": "9DkJt9TOrX-7"
      },
      "execution_count": null,
      "outputs": []
    },
    {
      "cell_type": "code",
      "source": [
        "clf.fit(X_train, y_train)"
      ],
      "metadata": {
        "id": "0ixL_dntrdEa"
      },
      "execution_count": null,
      "outputs": []
    },
    {
      "cell_type": "code",
      "source": [
        "from sklearn.preprocessing import LabelEncoder\n",
        "\n",
        "# Instantiate LabelEncoder\n",
        "label_encoder = LabelEncoder()\n",
        "\n",
        "# Encode the target variable (ActivityType) into numerical values\n",
        "y_test_encoded = label_encoder.fit_transform(y_test)\n",
        "\n",
        "# Now, evaluate the performance of the trained model on the test set\n",
        "y_pred = clf.predict(X_test_imputed)\n",
        "print(classification_report(y_test_encoded, y_pred))"
      ],
      "metadata": {
        "id": "llgjj1DWqtTk"
      },
      "execution_count": null,
      "outputs": []
    },
    {
      "cell_type": "code",
      "source": [
        "from sklearn.impute import SimpleImputer\n",
        "\n",
        "# Instantiate the imputer with strategy 'mean', 'median', or 'most_frequent'\n",
        "imputer = SimpleImputer(strategy='mean')\n",
        "\n",
        "# Fit the imputer to the training data and transform the data\n",
        "X_train_imputed = imputer.fit_transform(X_train_encoded)\n",
        "\n",
        "# Now, train the RandomForestClassifier using X_train_imputed\n",
        "clf.fit(X_train_imputed, y_train_encoded)"
      ],
      "metadata": {
        "id": "v6wDShm586pz"
      },
      "execution_count": null,
      "outputs": []
    },
    {
      "cell_type": "code",
      "source": [
        "# Concatenate the training and test sets\n",
        "concatenated_df = pd.concat([X_train, X_test], axis=0)"
      ],
      "metadata": {
        "id": "UphFOIYn98WL"
      },
      "execution_count": null,
      "outputs": []
    },
    {
      "cell_type": "code",
      "source": [
        "# One-hot encode categorical columns in the concatenated DataFrame\n",
        "concatenated_encoded = pd.get_dummies(concatenated_df, columns=categorical_columns)"
      ],
      "metadata": {
        "id": "pPxc0PPa9_K7"
      },
      "execution_count": null,
      "outputs": []
    },
    {
      "cell_type": "code",
      "source": [
        "# Separate the training and test sets after one-hot encoding\n",
        "X_train_encoded = concatenated_encoded.iloc[:len(X_train)]\n",
        "X_test_encoded = concatenated_encoded.iloc[len(X_train):]"
      ],
      "metadata": {
        "id": "1GYeuC4F-EaC"
      },
      "execution_count": null,
      "outputs": []
    },
    {
      "cell_type": "code",
      "source": [
        "# Impute missing values in the test set using the same imputer fitted on the training set\n",
        "X_test_imputed = imputer.transform(X_test_encoded)"
      ],
      "metadata": {
        "id": "p8Tjc-UP-HjL"
      },
      "execution_count": null,
      "outputs": []
    },
    {
      "cell_type": "code",
      "source": [
        "from sklearn.preprocessing import LabelEncoder\n",
        "\n",
        "# Instantiate LabelEncoder\n",
        "label_encoder = LabelEncoder()\n",
        "\n",
        "# Encode the target variable (ActivityType) into numerical values\n",
        "y_test_encoded = label_encoder.fit_transform(y_test)\n",
        "\n",
        "# Now, evaluate the performance of the trained model on the test set\n",
        "y_pred = clf.predict(X_test_imputed)\n",
        "print(classification_report(y_test_encoded, y_pred))"
      ],
      "metadata": {
        "id": "dH-rwHMx-inD"
      },
      "execution_count": null,
      "outputs": []
    },
    {
      "cell_type": "code",
      "source": [
        "# Now, evaluate the performance of the trained model on the test set\n",
        "y_pred = clf.predict(X_test_imputed)\n",
        "print(classification_report(y_test_encoded, y_pred))"
      ],
      "metadata": {
        "id": "XV_BjqPb-L77"
      },
      "execution_count": null,
      "outputs": []
    },
    {
      "cell_type": "code",
      "source": [
        "# Concatenate the training and test sets\n",
        "concatenated_df = pd.concat([X_train, X_test], axis=0)\n",
        "\n",
        "# One-hot encode categorical columns in the concatenated DataFrame\n",
        "concatenated_encoded = pd.get_dummies(concatenated_df, columns=categorical_columns)\n",
        "\n",
        "# Separate the training and test sets after one-hot encoding\n",
        "X_train_encoded = concatenated_encoded.iloc[:len(X_train)]\n",
        "X_test_encoded = concatenated_encoded.iloc[len(X_train):]\n",
        "\n",
        "# Impute missing values in the test set using the same imputer fitted on the training set\n",
        "X_test_imputed = imputer.transform(X_test_encoded)\n",
        "\n",
        "# Now, evaluate the performance of the trained model on the test set\n",
        "y_pred = clf.predict(X_test_imputed)\n",
        "print(classification_report(y_test_encoded, y_pred))"
      ],
      "metadata": {
        "id": "nMPBnpUB9xDN"
      },
      "execution_count": null,
      "outputs": []
    },
    {
      "cell_type": "code",
      "source": [
        "# Assuming X_train contains the features for training\n",
        "# Identify categorical columns\n",
        "categorical_columns = X_train.select_dtypes(include=['object']).columns"
      ],
      "metadata": {
        "id": "e98E1BJg9aYd"
      },
      "execution_count": null,
      "outputs": []
    },
    {
      "cell_type": "code",
      "source": [
        "# Assuming X_train contains the features for training\n",
        "# Identify categorical columns\n",
        "categorical_columns = X_train.select_dtypes(include=['object']).columns"
      ],
      "metadata": {
        "id": "w1k9Pxld9KVc"
      },
      "execution_count": null,
      "outputs": []
    },
    {
      "cell_type": "code",
      "source": [
        "\n",
        "# Now, train the RandomForestClassifier using X_train_encoded\n",
        "clf.fit(X_train_encoded, y_train_encoded)"
      ],
      "metadata": {
        "id": "upv_gjxh8QzF"
      },
      "execution_count": null,
      "outputs": []
    },
    {
      "cell_type": "code",
      "source": [],
      "metadata": {
        "id": "pQIpOUoE2m47"
      },
      "execution_count": null,
      "outputs": []
    },
    {
      "cell_type": "code",
      "source": [
        "\n",
        "\n",
        "# Assuming X_train contains the features for training\n",
        "# Identify categorical columns\n",
        "categorical_columns = X_train.select_dtypes(include=['object']).columns\n"
      ],
      "metadata": {
        "id": "9k-04qvu8MhF"
      },
      "execution_count": null,
      "outputs": []
    },
    {
      "cell_type": "code",
      "source": [
        "from sklearn.ensemble import RandomForestClassifier\n",
        "from sklearn.model_selection import train_test_split\n",
        "\n",
        "# Prepare features and labels\n",
        "X = df_135.drop(['ActivityType', 'Timestamp'], axis=1)\n",
        "y = df_135['ActivityType']\n",
        "\n",
        "# Split data into training and testing sets\n",
        "X_train, X_test, y_train, y_test = train_test_split(X, y, test_size=0.2, random_state=42)\n",
        "\n",
        "# Train a RandomForestClassifier\n",
        "clf = RandomForestClassifier()\n",
        "clf.fit(X_train, y_train)\n",
        "\n",
        "# Predict activity type for Unknown data points\n",
        "unknown_data = df_135[df_135['ActivityType'] == 'Unknown']\n",
        "unknown_features = unknown_data.drop(['ActivityType', 'Timestamp'], axis=1)\n",
        "predicted_activity_types = clf.predict(unknown_features)"
      ],
      "metadata": {
        "id": "ljnV8cpb2GTE"
      },
      "execution_count": null,
      "outputs": []
    },
    {
      "cell_type": "code",
      "source": [
        "unknown_data['on_lift'].value_counts()"
      ],
      "metadata": {
        "id": "0XRkC1XsAjej"
      },
      "execution_count": null,
      "outputs": []
    },
    {
      "cell_type": "code",
      "source": [
        "unknown_features['on_lift'].value_counts()"
      ],
      "metadata": {
        "id": "WiAIMCDwAymg"
      },
      "execution_count": null,
      "outputs": []
    },
    {
      "cell_type": "code",
      "source": [
        "df_135['on_lift'].value_counts()"
      ],
      "metadata": {
        "id": "qtZ109SZDZEH"
      },
      "execution_count": null,
      "outputs": []
    },
    {
      "cell_type": "code",
      "source": [
        "predicted_activity_types"
      ],
      "metadata": {
        "id": "gYTnTuHlA7Tv"
      },
      "execution_count": null,
      "outputs": []
    },
    {
      "cell_type": "code",
      "source": [
        "df_135['Timestamp'] = pd.to_datetime(df_135['Timestamp'])"
      ],
      "metadata": {
        "id": "HcPf-eRbyxrH"
      },
      "execution_count": null,
      "outputs": []
    },
    {
      "cell_type": "code",
      "source": [
        "# Calculate speed based on consecutive data points\n",
        "df_135['Speed'] = df_135['Speed(m/s)'].diff() / df_135['Timestamp'].diff().dt.total_seconds()"
      ],
      "metadata": {
        "id": "97qX-fS7ybku"
      },
      "execution_count": null,
      "outputs": []
    },
    {
      "cell_type": "code",
      "source": [
        "df_135['Speed'].value_counts()"
      ],
      "metadata": {
        "id": "-GBFN98Zy0Md"
      },
      "execution_count": null,
      "outputs": []
    },
    {
      "cell_type": "code",
      "source": [
        "df_135['Speed'].sum"
      ],
      "metadata": {
        "id": "mDNypbHSzC8O"
      },
      "execution_count": null,
      "outputs": []
    },
    {
      "cell_type": "code",
      "source": [
        "df_135_unkown = df_135[df_135['ActivityType'] == 'Unknown']"
      ],
      "metadata": {
        "id": "La_qohn6zbHN"
      },
      "execution_count": null,
      "outputs": []
    },
    {
      "cell_type": "code",
      "source": [
        "# Convert 'Timestamp' to datetime if it's not already in datetime format\n",
        "df_135_unkown['Timestamp'] = pd.to_datetime(df_135_unkown['Timestamp'])"
      ],
      "metadata": {
        "id": "mXWwsErj1E4N"
      },
      "execution_count": null,
      "outputs": []
    },
    {
      "cell_type": "code",
      "source": [],
      "metadata": {
        "id": "J8NUsmpQ1Io8"
      },
      "execution_count": null,
      "outputs": []
    },
    {
      "cell_type": "code",
      "source": [
        "# Convert 'Timestamp' to datetime if it's not already in datetime format\n",
        "df_135_unkown['Timestamp'] = pd.to_datetime(df_135_unkown['Timestamp'])\n",
        "\n",
        "# Sort the DataFrame by the 'Timestamp' column\n",
        "df_135_unkown = df_135_unkown.sort_values(by='Timestamp')\n",
        "\n",
        "# Calculate the speed\n",
        "df_135_unkown['Speed'] = df_135_unkown['Speed(m/s)'].diff() / df_135_unkown['Timestamp'].diff().dt.total_seconds()\n",
        "\n",
        "# Display the DataFrame\n",
        "print(df_135_unkown)"
      ],
      "metadata": {
        "id": "Yl2PXV0k0hA3"
      },
      "execution_count": null,
      "outputs": []
    },
    {
      "cell_type": "code",
      "source": [
        "df_135_unkown['Speed'].value_counts()"
      ],
      "metadata": {
        "id": "OjlzPxpT1hkM"
      },
      "execution_count": null,
      "outputs": []
    },
    {
      "cell_type": "code",
      "source": [
        "df_135_unkown['Speed']"
      ],
      "metadata": {
        "id": "2emdtiyz0C8d"
      },
      "execution_count": null,
      "outputs": []
    },
    {
      "cell_type": "code",
      "source": [
        "file_166='/content/df_166m.csv'\n",
        "df_166=pd.read_csv(file_166)"
      ],
      "metadata": {
        "id": "xoL-hcKXBblt"
      },
      "execution_count": null,
      "outputs": []
    },
    {
      "cell_type": "code",
      "source": [
        "file_206='/content/df_206_labeled_on_lift.csv'\n",
        "df_206=pd.read_csv(file_206)"
      ],
      "metadata": {
        "id": "VfgR4DhQBwwM"
      },
      "execution_count": null,
      "outputs": []
    },
    {
      "cell_type": "code",
      "source": [
        "file_290='/content/df_290_labeled_on_lift.csv'\n",
        "df_290=pd.read_csv(file_290)"
      ],
      "metadata": {
        "id": "YgEfRbnYB4vU"
      },
      "execution_count": null,
      "outputs": []
    },
    {
      "cell_type": "code",
      "source": [
        "file_310='/content/df_310_labeled_on_lift.csv'\n",
        "df_310=pd.read_csv(file_310)"
      ],
      "metadata": {
        "id": "J9QVX7ZSCFaN"
      },
      "execution_count": null,
      "outputs": []
    },
    {
      "cell_type": "code",
      "source": [
        "file_57='/content/df_57_labeled_on_lift.csv'\n",
        "df_57=pd.read_csv(file_57)"
      ],
      "metadata": {
        "id": "IU-rewQZCSok"
      },
      "execution_count": null,
      "outputs": []
    },
    {
      "cell_type": "code",
      "source": [
        "file_95='/content/df_95_labeled_on_lift.csv'\n",
        "df_95=pd.read_csv(file_95)"
      ],
      "metadata": {
        "id": "AW2DRIt5CeXc"
      },
      "execution_count": null,
      "outputs": []
    },
    {
      "cell_type": "code",
      "source": [],
      "metadata": {
        "id": "GRzez7WJvfpA"
      },
      "execution_count": null,
      "outputs": []
    },
    {
      "cell_type": "code",
      "source": [
        "\n"
      ],
      "metadata": {
        "id": "Djkq9ZymvuQ4"
      },
      "execution_count": null,
      "outputs": []
    },
    {
      "cell_type": "code",
      "source": [
        "df_166"
      ],
      "metadata": {
        "id": "xLBXtgo9v6lP"
      },
      "execution_count": null,
      "outputs": []
    },
    {
      "cell_type": "code",
      "source": [
        "df_166.info()"
      ],
      "metadata": {
        "id": "NlhXyfNlwIWI"
      },
      "execution_count": null,
      "outputs": []
    },
    {
      "cell_type": "code",
      "source": [
        "df_166.columns"
      ],
      "metadata": {
        "id": "sVizxTCnwPOp"
      },
      "execution_count": null,
      "outputs": []
    },
    {
      "cell_type": "code",
      "source": [
        "import geopandas as gpd\n",
        "from shapely.geometry import Point\n",
        "\n",
        "# Coordinate system\n",
        "crs = {'init': 'epsg:4326'}\n",
        "\n",
        "# Create GPS points\n",
        "geometry = [Point(xy) for xy in zip(df_166['Long'], df_166['Lat'])]\n",
        "\n",
        "# Create a GeoDataFrame with GPS data points\n",
        "geo_df = gpd.GeoDataFrame(df_166, crs=crs, geometry=geometry)\n",
        "\n",
        "# Reduce data to every 60 seconds\n",
        "reduced_df = df_166.iloc[::60, :].copy()\n",
        "\n",
        "# Update the geometry column in the reduced DataFrame\n",
        "reduced_df['geometry'] = [Point(xy) for xy in zip(reduced_df['Long'], reduced_df['Lat'])]\n",
        "reduced_geo_df = gpd.GeoDataFrame(reduced_df, crs=crs, geometry='geometry')\n",
        "\n",
        "reduced_df.head(5)"
      ],
      "metadata": {
        "id": "ozIz35-D1IEb"
      },
      "execution_count": null,
      "outputs": []
    },
    {
      "cell_type": "code",
      "source": [
        "import geopandas as gpd\n",
        "from shapely.geometry import Point\n",
        "\n",
        "# Coordinate system\n",
        "crs = {'init': 'epsg:4326'}\n",
        "\n",
        "# Function to create GeoDataFrame and reduce data\n",
        "def create_and_reduce(df):\n",
        "    # Create GPS points\n",
        "    geometry = [Point(xy) for xy in zip(df['Long'], df['Lat'])]\n",
        "\n",
        "    # Create a GeoDataFrame with GPS data points\n",
        "    geo_df = gpd.GeoDataFrame(df, crs=crs, geometry=geometry)\n",
        "\n",
        "    # Reduce data to every 60 seconds\n",
        "    reduced_df = df.iloc[::60, :].copy()\n",
        "\n",
        "    # Update the geometry column in the reduced DataFrame\n",
        "    reduced_df['geometry'] = [Point(xy) for xy in zip(reduced_df['Long'], reduced_df['Lat'])]\n",
        "    reduced_geo_df = gpd.GeoDataFrame(reduced_df, crs=crs, geometry='geometry')\n",
        "\n",
        "    return reduced_df\n",
        "\n",
        "# Create and reduce GeoDataFrames for each DataFrame\n",
        "reduced_df_135 = create_and_reduce(df_135)\n",
        "reduced_df_206 = create_and_reduce(df_206)\n",
        "reduced_df_290 = create_and_reduce(df_290)\n",
        "reduced_df_310 = create_and_reduce(df_310)\n",
        "reduced_df_57 = create_and_reduce(df_57)\n",
        "reduced_df_95 = create_and_reduce(df_95)"
      ],
      "metadata": {
        "id": "h-ohtSpL_JcY"
      },
      "execution_count": null,
      "outputs": []
    },
    {
      "cell_type": "code",
      "source": [],
      "metadata": {
        "id": "DwVJV59KC4Nr"
      },
      "execution_count": null,
      "outputs": []
    },
    {
      "cell_type": "code",
      "source": [
        "import folium\n",
        "\n",
        "# Create a Folium map centered at the first point of the reduced DataFrame\n",
        "m = folium.Map(location=[reduced_df['Lat'].iloc[0], reduced_df['Long'].iloc[0]], zoom_start=15)\n",
        "\n",
        "# Add markers for each data point in the reduced DataFrame\n",
        "for index, row in reduced_df.iterrows():\n",
        "    folium.Marker([row['Lat'], row['Long']], popup=f\"Timestamp: {row['Timestamp']}\").add_to(m)\n",
        "\n",
        "# Display the map\n",
        "m"
      ],
      "metadata": {
        "id": "lnJpHnoC2Ydq"
      },
      "execution_count": null,
      "outputs": []
    },
    {
      "cell_type": "code",
      "source": [
        "import folium\n",
        "\n",
        "# Function to create Folium map for reduced DataFrame\n",
        "def create_folium_map(reduced_df):\n",
        "    # Create a Folium map centered at the first point of the reduced DataFrame\n",
        "    m = folium.Map(location=[reduced_df['Lat'].iloc[0], reduced_df['Long'].iloc[0]], zoom_start=15)\n",
        "\n",
        "    # Add markers for each data point in the reduced DataFrame\n",
        "    for index, row in reduced_df.iterrows():\n",
        "        folium.Marker([row['Lat'], row['Long']], popup=f\"Timestamp: {row['Timestamp']}\").add_to(m)\n",
        "\n",
        "    # Display the map\n",
        "    return m\n",
        "\n",
        "# Create Folium maps for all reduced DataFrames\n",
        "folium_maps = {}\n",
        "for key, reduced_df in {'df_135': reduced_df_135, 'df_206': reduced_df_206, 'df_290': reduced_df_290, 'df_310': reduced_df_310, 'df_57': reduced_df_57, 'df_95': reduced_df_95}.items():\n",
        "    folium_maps[key] = create_folium_map(reduced_df)\n",
        "\n",
        "# Display the maps\n",
        "for key, folium_map in folium_maps.items():\n",
        "    print(f\"Map for {key}:\")\n",
        "    display(folium_map)"
      ],
      "metadata": {
        "id": "LAd7xTMYDN27"
      },
      "execution_count": null,
      "outputs": []
    },
    {
      "cell_type": "code",
      "source": [],
      "metadata": {
        "id": "P1kNDGLt-HT6"
      },
      "execution_count": null,
      "outputs": []
    },
    {
      "cell_type": "code",
      "source": [
        "import folium\n",
        "\n",
        "# Create a Folium map centered at the first point of the reduced DataFrame\n",
        "m = folium.Map(location=[reduced_df.Lat.iloc[0], reduced_df.Long.iloc[0]], zoom_start=15)\n",
        "\n",
        "# Add a line to the map\n",
        "folium.PolyLine(\n",
        "    list(zip(reduced_df.Lat, reduced_df.Long)),\n",
        "    color=\"blue\",\n",
        "    weight=2.5,\n",
        "    opacity=1\n",
        ").add_to(m)\n",
        "\n",
        "# Display the map\n",
        "m"
      ],
      "metadata": {
        "id": "qDfhRAwgzmpM"
      },
      "execution_count": null,
      "outputs": []
    },
    {
      "cell_type": "code",
      "source": [
        "import matplotlib.pyplot as plt\n",
        "\n",
        "# Plot GPS coordinates\n",
        "plt.figure(figsize=(10, 6))\n",
        "plt.plot(df_166['Long'], df_166['Lat'], marker='o', linestyle='', markersize=5, color='blue')\n",
        "plt.xlabel('Longitude')\n",
        "plt.ylabel('Latitude')\n",
        "plt.title('GPS Coordinates')\n",
        "plt.grid(True)\n",
        "plt.show()"
      ],
      "metadata": {
        "id": "eivbvZx455Q2"
      },
      "execution_count": null,
      "outputs": []
    },
    {
      "cell_type": "code",
      "source": [
        "import plotly.graph_objects as go\n",
        "\n",
        "# Create a scatter plot of GPS coordinates\n",
        "fig = go.Figure(go.Scattermapbox(\n",
        "    mode=\"markers\",\n",
        "    lon=df_166['Long'],\n",
        "    lat=df_166['Lat'],\n",
        "    marker=go.scattermapbox.Marker(\n",
        "        size=9,\n",
        "        color='blue',\n",
        "        opacity=0.7\n",
        "    ),\n",
        "    text=df_166['Timestamp'],  # Use Timestamp as hover text\n",
        "))\n",
        "\n",
        "# Set layout parameters for the map\n",
        "fig.update_layout(\n",
        "    mapbox=dict(\n",
        "        accesstoken=YOUR_MAPBOX_ACCESS_TOKEN,  # Replace with your Mapbox access token ,you need an account\n",
        "        center=dict(\n",
        "            lon=df_166['Long'].iloc[0],  # Center the map at the first point\n",
        "            lat=df_166['Lat'].iloc[0]\n",
        "        ),\n",
        "        zoom=15\n",
        "    ),\n",
        ")\n",
        "\n",
        "# Show the map\n",
        "fig.show()"
      ],
      "metadata": {
        "id": "SbrWsWgH6ip9"
      },
      "execution_count": null,
      "outputs": []
    },
    {
      "cell_type": "code",
      "source": [],
      "metadata": {
        "id": "buF5T7Sx7mP1"
      },
      "execution_count": null,
      "outputs": []
    },
    {
      "cell_type": "code",
      "source": [
        "import matplotlib.pyplot as plt\n",
        "from mpl_toolkits.basemap import Basemap\n",
        "\n",
        "# Create a Basemap instance\n",
        "plt.figure(figsize=(10, 6))\n",
        "m = Basemap(projection='merc', llcrnrlat=df_166['Lat'].min(), urcrnrlat=df_166['Lat'].max(),\n",
        "            llcrnrlon=df_166['Long'].min(), urcrnrlon=df_166['Long'].max(), resolution='i')\n",
        "\n",
        "# Plot GPS data\n",
        "m.scatter(df_166['Long'], df_166['Lat'], latlon=True, s=10, c='blue', marker='o', alpha=0.7)\n",
        "\n",
        "# Draw coastlines, countries, and states\n",
        "m.drawcoastlines()\n",
        "m.drawcountries()\n",
        "m.drawstates()\n",
        "\n",
        "# Add a title\n",
        "plt.title('GPS Data')\n",
        "\n",
        "# Show the plot\n",
        "plt.show()"
      ],
      "metadata": {
        "id": "Q8fXoOK-7dfb"
      },
      "execution_count": null,
      "outputs": []
    },
    {
      "cell_type": "code",
      "source": [
        "pip install keplergl"
      ],
      "metadata": {
        "id": "f8Y6Ejlv8_aa"
      },
      "execution_count": null,
      "outputs": []
    },
    {
      "cell_type": "code",
      "source": [
        "from keplergl import KeplerGl\n",
        "import pandas as pd\n",
        "\n",
        "# Create a Kepler.gl map\n",
        "map_166 = KeplerGl(height=600)\n",
        "map_166.add_data(data=pd.DataFrame(df_166), name='GPS Data')\n",
        "\n",
        "# Display the map\n",
        "map_166"
      ],
      "metadata": {
        "id": "DO8YOWdF9TzN"
      },
      "execution_count": null,
      "outputs": []
    },
    {
      "cell_type": "code",
      "source": [],
      "metadata": {
        "id": "LzMSJ15z9WIK"
      },
      "execution_count": null,
      "outputs": []
    },
    {
      "cell_type": "code",
      "source": [
        "import folium\n",
        "\n",
        "# Create a Folium map centered at the first point of the reduced DataFrame\n",
        "m = folium.Map(location=[reduced_df['Lat'].iloc[0], reduced_df['Long'].iloc[0]], zoom_start=15)\n",
        "\n",
        "# Add markers for each data point in the reduced DataFrame\n",
        "for index, row in reduced_df.iterrows():\n",
        "    folium.Marker([row['Lat'], row['Long']], popup=f\"Timestamp: {row['Timestamp']}\").add_to(m)\n",
        "\n",
        "# Save the map to an HTML file\n",
        "m.save(\"map.html\")"
      ],
      "metadata": {
        "id": "clVnuyygwvP-"
      },
      "execution_count": null,
      "outputs": []
    },
    {
      "cell_type": "code",
      "source": [],
      "metadata": {
        "id": "Lb0JQC3y329Y"
      },
      "execution_count": null,
      "outputs": []
    },
    {
      "cell_type": "code",
      "source": [
        "import gmplot\n",
        "\n",
        "# Create a Google Maps plot centered at the first point of the reduced DataFrame\n",
        "gmap = gmplot.GoogleMapPlotter(reduced_df['Lat'].iloc[0], reduced_df['Long'].iloc[0], 15)\n",
        "\n",
        "# Plot the coordinates on the map\n",
        "gmap.scatter(reduced_df['Lat'], reduced_df['Long'], '#FF0000', size=40, marker=False)\n",
        "\n",
        "# Draw the map to an HTML file\n",
        "gmap.draw(\"map.html\")\n",
        "\n",
        "gmap"
      ],
      "metadata": {
        "id": "F5VScL7rwykP"
      },
      "execution_count": null,
      "outputs": []
    },
    {
      "cell_type": "code",
      "source": [
        "from IPython.display import IFrame\n",
        "\n",
        "IFrame(src='map.html', width=700, height=600)"
      ],
      "metadata": {
        "id": "Kk8WnzhSxSBO"
      },
      "execution_count": null,
      "outputs": []
    },
    {
      "cell_type": "code",
      "source": [],
      "metadata": {
        "id": "Ss2tz8R21yrx"
      },
      "execution_count": null,
      "outputs": []
    }
  ]
}